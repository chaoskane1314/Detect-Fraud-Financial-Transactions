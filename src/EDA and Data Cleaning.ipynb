{
 "cells": [
  {
   "cell_type": "code",
   "execution_count": 1,
   "metadata": {},
   "outputs": [],
   "source": [
    "import pandas as pd\n",
    "import matplotlib.pyplot as plt\n",
    "import numpy as np\n",
    "import seaborn as sns\n",
    "%matplotlib inline"
   ]
  },
  {
   "cell_type": "markdown",
   "metadata": {},
   "source": [
    "Load the data.\n",
    "\n",
    "Transaction data frame contain detail of all transacion.\n",
    "Fraud data frame contain a list of fraudster\n",
    "Users data frame contain information of the user."
   ]
  },
  {
   "cell_type": "code",
   "execution_count": 34,
   "metadata": {},
   "outputs": [],
   "source": [
    "transaction = pd.read_csv(\"../data/train_transactions.csv\",index_col = 0)\n",
    "fraud = pd.read_csv(\"../data/train_fraudsters.csv\",index_col = 0)\n",
    "users = pd.read_csv(\"../data/train_users.csv\",index_col = 0)\n",
    "transaction.Fraud = transaction.Fraud.apply(lambda x: 0 if x== \"0\" else 1)"
   ]
  },
  {
   "cell_type": "markdown",
   "metadata": {},
   "source": [
    "## Transaction dataframe"
   ]
  },
  {
   "cell_type": "code",
   "execution_count": 13,
   "metadata": {
    "scrolled": false
   },
   "outputs": [
    {
     "data": {
      "text/html": [
       "<div>\n",
       "<style scoped>\n",
       "    .dataframe tbody tr th:only-of-type {\n",
       "        vertical-align: middle;\n",
       "    }\n",
       "\n",
       "    .dataframe tbody tr th {\n",
       "        vertical-align: top;\n",
       "    }\n",
       "\n",
       "    .dataframe thead th {\n",
       "        text-align: right;\n",
       "    }\n",
       "</style>\n",
       "<table border=\"1\" class=\"dataframe\">\n",
       "  <thead>\n",
       "    <tr style=\"text-align: right;\">\n",
       "      <th></th>\n",
       "      <th>CURRENCY</th>\n",
       "      <th>AMOUNT</th>\n",
       "      <th>STATE</th>\n",
       "      <th>CREATED_DATE</th>\n",
       "      <th>MERCHANT_CATEGORY</th>\n",
       "      <th>MERCHANT_COUNTRY</th>\n",
       "      <th>ENTRY_METHOD</th>\n",
       "      <th>USER_ID</th>\n",
       "      <th>TYPE</th>\n",
       "      <th>SOURCE</th>\n",
       "      <th>ID</th>\n",
       "      <th>Fraud</th>\n",
       "    </tr>\n",
       "  </thead>\n",
       "  <tbody>\n",
       "    <tr>\n",
       "      <th>0</th>\n",
       "      <td>GBP</td>\n",
       "      <td>3738</td>\n",
       "      <td>COMPLETED</td>\n",
       "      <td>05:43.0</td>\n",
       "      <td>bar</td>\n",
       "      <td>AUS</td>\n",
       "      <td>misc</td>\n",
       "      <td>7285c1ec-31d0-4022-b311-0ad9227ef7f4</td>\n",
       "      <td>CARD_PAYMENT</td>\n",
       "      <td>GAIA</td>\n",
       "      <td>5a9ee109-e9b3-4598-8dd7-587591e6a470</td>\n",
       "      <td>0</td>\n",
       "    </tr>\n",
       "    <tr>\n",
       "      <th>1</th>\n",
       "      <td>GBP</td>\n",
       "      <td>588</td>\n",
       "      <td>COMPLETED</td>\n",
       "      <td>08:39.1</td>\n",
       "      <td>NaN</td>\n",
       "      <td>CA</td>\n",
       "      <td>misc</td>\n",
       "      <td>20100a1d-12bc-41ed-a5e1-bc46216e9696</td>\n",
       "      <td>CARD_PAYMENT</td>\n",
       "      <td>GAIA</td>\n",
       "      <td>28d68bf4-460b-4c8e-9b95-bcda9ab596b5</td>\n",
       "      <td>0</td>\n",
       "    </tr>\n",
       "    <tr>\n",
       "      <th>2</th>\n",
       "      <td>GBP</td>\n",
       "      <td>1264</td>\n",
       "      <td>COMPLETED</td>\n",
       "      <td>37:40.9</td>\n",
       "      <td>NaN</td>\n",
       "      <td>UKR</td>\n",
       "      <td>misc</td>\n",
       "      <td>0fe472c9-cf3e-4e43-90f3-a0cfb6a4f1f0</td>\n",
       "      <td>CARD_PAYMENT</td>\n",
       "      <td>GAIA</td>\n",
       "      <td>1f1e8817-d40b-4c09-b718-cfc4a6f211df</td>\n",
       "      <td>0</td>\n",
       "    </tr>\n",
       "    <tr>\n",
       "      <th>3</th>\n",
       "      <td>GBP</td>\n",
       "      <td>66</td>\n",
       "      <td>REVERTED</td>\n",
       "      <td>08:35.3</td>\n",
       "      <td>NaN</td>\n",
       "      <td>CA</td>\n",
       "      <td>misc</td>\n",
       "      <td>20100a1d-12bc-41ed-a5e1-bc46216e9696</td>\n",
       "      <td>CARD_PAYMENT</td>\n",
       "      <td>GAIA</td>\n",
       "      <td>a7aaf78c-d201-456f-9e6d-612a795e8c32</td>\n",
       "      <td>0</td>\n",
       "    </tr>\n",
       "    <tr>\n",
       "      <th>4</th>\n",
       "      <td>GBP</td>\n",
       "      <td>968</td>\n",
       "      <td>COMPLETED</td>\n",
       "      <td>46:47.6</td>\n",
       "      <td>supermarket</td>\n",
       "      <td>NZL</td>\n",
       "      <td>misc</td>\n",
       "      <td>821014c5-af06-40ff-91f4-77fe7667809f</td>\n",
       "      <td>CARD_PAYMENT</td>\n",
       "      <td>GAIA</td>\n",
       "      <td>27dd99a2-5539-4ba9-876a-1a94abc2701f</td>\n",
       "      <td>0</td>\n",
       "    </tr>\n",
       "  </tbody>\n",
       "</table>\n",
       "</div>"
      ],
      "text/plain": [
       "  CURRENCY  AMOUNT      STATE CREATED_DATE MERCHANT_CATEGORY MERCHANT_COUNTRY  \\\n",
       "0      GBP    3738  COMPLETED      05:43.0               bar              AUS   \n",
       "1      GBP     588  COMPLETED      08:39.1               NaN               CA   \n",
       "2      GBP    1264  COMPLETED      37:40.9               NaN              UKR   \n",
       "3      GBP      66   REVERTED      08:35.3               NaN               CA   \n",
       "4      GBP     968  COMPLETED      46:47.6       supermarket              NZL   \n",
       "\n",
       "  ENTRY_METHOD                               USER_ID          TYPE SOURCE  \\\n",
       "0         misc  7285c1ec-31d0-4022-b311-0ad9227ef7f4  CARD_PAYMENT   GAIA   \n",
       "1         misc  20100a1d-12bc-41ed-a5e1-bc46216e9696  CARD_PAYMENT   GAIA   \n",
       "2         misc  0fe472c9-cf3e-4e43-90f3-a0cfb6a4f1f0  CARD_PAYMENT   GAIA   \n",
       "3         misc  20100a1d-12bc-41ed-a5e1-bc46216e9696  CARD_PAYMENT   GAIA   \n",
       "4         misc  821014c5-af06-40ff-91f4-77fe7667809f  CARD_PAYMENT   GAIA   \n",
       "\n",
       "                                     ID Fraud  \n",
       "0  5a9ee109-e9b3-4598-8dd7-587591e6a470     0  \n",
       "1  28d68bf4-460b-4c8e-9b95-bcda9ab596b5     0  \n",
       "2  1f1e8817-d40b-4c09-b718-cfc4a6f211df     0  \n",
       "3  a7aaf78c-d201-456f-9e6d-612a795e8c32     0  \n",
       "4  27dd99a2-5539-4ba9-876a-1a94abc2701f     0  "
      ]
     },
     "execution_count": 13,
     "metadata": {},
     "output_type": "execute_result"
    }
   ],
   "source": [
    "transaction.head()"
   ]
  },
  {
   "cell_type": "markdown",
   "metadata": {},
   "source": [
    "The column State looks like leakage, will not use it in model"
   ]
  },
  {
   "cell_type": "markdown",
   "metadata": {},
   "source": [
    "### Missing Data"
   ]
  },
  {
   "cell_type": "code",
   "execution_count": 7,
   "metadata": {
    "scrolled": true
   },
   "outputs": [
    {
     "name": "stdout",
     "output_type": "stream",
     "text": [
      "<class 'pandas.core.frame.DataFrame'>\n",
      "RangeIndex: 688651 entries, 0 to 688650\n",
      "Data columns (total 13 columns):\n",
      "Unnamed: 0           688651 non-null int64\n",
      "CURRENCY             688651 non-null object\n",
      "AMOUNT               688651 non-null int64\n",
      "STATE                688651 non-null object\n",
      "CREATED_DATE         688651 non-null object\n",
      "MERCHANT_CATEGORY    223065 non-null object\n",
      "MERCHANT_COUNTRY     483073 non-null object\n",
      "ENTRY_METHOD         688651 non-null object\n",
      "USER_ID              688651 non-null object\n",
      "TYPE                 688651 non-null object\n",
      "SOURCE               688651 non-null object\n",
      "ID                   688651 non-null object\n",
      "Fraud                688651 non-null object\n",
      "dtypes: int64(2), object(11)\n",
      "memory usage: 68.3+ MB\n"
     ]
    }
   ],
   "source": [
    "transaction.info()"
   ]
  },
  {
   "cell_type": "code",
   "execution_count": 9,
   "metadata": {
    "scrolled": true
   },
   "outputs": [
    {
     "data": {
      "text/plain": [
       "<matplotlib.axes._subplots.AxesSubplot at 0x1a189ec860>"
      ]
     },
     "execution_count": 9,
     "metadata": {},
     "output_type": "execute_result"
    },
    {
     "data": {
      "image/png": "[encoded data removed]",
      "text/plain": [
       "<Figure size 432x288 with 2 Axes>"
      ]
     },
     "metadata": {
      "needs_background": "light"
     },
     "output_type": "display_data"
    }
   ],
   "source": [
    "sns.heatmap(transaction.isna())"
   ]
  },
  {
   "cell_type": "markdown",
   "metadata": {},
   "source": [
    "### Numberical features"
   ]
  },
  {
   "cell_type": "markdown",
   "metadata": {},
   "source": [
    "MERCHANT_CATEGORY has alot of missing data, MERCHANT_COUNTRY has about 30% missing data as well."
   ]
  },
  {
   "cell_type": "code",
   "execution_count": 8,
   "metadata": {
    "scrolled": false
   },
   "outputs": [
    {
     "data": {
      "text/plain": [
       "<matplotlib.axes._subplots.AxesSubplot at 0x1a197ebdd8>"
      ]
     },
     "execution_count": 8,
     "metadata": {},
     "output_type": "execute_result"
    },
    {
     "data": {
      "image/png": "[encoded data removed]",
      "text/plain": [
       "<Figure size 432x288 with 1 Axes>"
      ]
     },
     "metadata": {
      "needs_background": "light"
     },
     "output_type": "display_data"
    }
   ],
   "source": [
    "sns.boxplot(transaction.Fraud,transaction.AMOUNT)"
   ]
  },
  {
   "cell_type": "markdown",
   "metadata": {},
   "source": [
    "Look at the box plot of the transaction amount, it looks like there is a lot of outliers."
   ]
  },
  {
   "cell_type": "markdown",
   "metadata": {},
   "source": [
    "### Catergorical Features"
   ]
  },
  {
   "cell_type": "code",
   "execution_count": 3,
   "metadata": {},
   "outputs": [],
   "source": [
    "fraudster = transaction[transaction.Fraud == 1]\n",
    "normal = transaction[transaction.Fraud == 0]"
   ]
  },
  {
   "cell_type": "code",
   "execution_count": 4,
   "metadata": {},
   "outputs": [],
   "source": [
    "def check_percentage(column):\n",
    "    \"\"\"\n",
    "    Return the percentage of catergorical variable in each column for fraud trasaction and regular transaction\n",
    "    input: \n",
    "    \"\"\"\n",
    "    print(\"Fraudster:\\n\",fraudster[column].value_counts().head(6) /len(fraudster))\n",
    "    print(\"\\n\")\n",
    "    print(\"Not_Fraud:\\n\",normal[column].value_counts().head(6) /len(normal))"
   ]
  },
  {
   "cell_type": "code",
   "execution_count": 58,
   "metadata": {},
   "outputs": [
    {
     "name": "stdout",
     "output_type": "stream",
     "text": [
      "Fraudster:\n",
      " GBP    0.909372\n",
      "EUR    0.049027\n",
      "PLN    0.020147\n",
      "USD    0.012308\n",
      "NOK    0.007908\n",
      "RON    0.000894\n",
      "Name: CURRENCY, dtype: float64\n",
      "\n",
      "\n",
      "Not_Fraud:\n",
      " GBP    0.483403\n",
      "EUR    0.391602\n",
      "USD    0.046525\n",
      "PLN    0.032738\n",
      "RON    0.008640\n",
      "CHF    0.008545\n",
      "Name: CURRENCY, dtype: float64\n"
     ]
    }
   ],
   "source": [
    "check_percentage(\"CURRENCY\")"
   ]
  },
  {
   "cell_type": "markdown",
   "metadata": {},
   "source": [
    "Fraudster has over 90% transaction is in GBP"
   ]
  },
  {
   "cell_type": "code",
   "execution_count": 18,
   "metadata": {},
   "outputs": [
    {
     "name": "stdout",
     "output_type": "stream",
     "text": [
      "Fraudster:\n",
      " atm                  0.065392\n",
      "point_of_interest    0.061198\n",
      "supermarket          0.031011\n",
      "restaurant           0.015128\n",
      "bank                 0.014302\n",
      "convenience_store    0.014027\n",
      "Name: MERCHANT_CATEGORY, dtype: float64\n",
      "\n",
      "\n",
      "Not_Fraud:\n",
      " point_of_interest    0.056251\n",
      "supermarket          0.044644\n",
      "restaurant           0.035002\n",
      "cafe                 0.019366\n",
      "bar                  0.019166\n",
      "atm                  0.014510\n",
      "Name: MERCHANT_CATEGORY, dtype: float64\n"
     ]
    }
   ],
   "source": [
    "check_percentage(\"MERCHANT_CATEGORY\")"
   ]
  },
  {
   "cell_type": "markdown",
   "metadata": {},
   "source": [
    "For Fraudster, atm transaction percentage is more than 4 times as none fraud transaction."
   ]
  },
  {
   "cell_type": "code",
   "execution_count": 6,
   "metadata": {},
   "outputs": [
    {
     "name": "stdout",
     "output_type": "stream",
     "text": [
      "Fraudster:\n",
      " GBR    0.455958\n",
      "IRL    0.023723\n",
      "POL    0.019460\n",
      "NLD    0.018703\n",
      "USA    0.017809\n",
      "NOR    0.012652\n",
      "Name: MERCHANT_COUNTRY, dtype: float64\n",
      "\n",
      "\n",
      "Not_Fraud:\n",
      " GBR    0.207042\n",
      "USA    0.067928\n",
      "FRA    0.042806\n",
      "IRL    0.038348\n",
      "LTU    0.037708\n",
      "ESP    0.034417\n",
      "Name: MERCHANT_COUNTRY, dtype: float64\n"
     ]
    }
   ],
   "source": [
    "check_percentage(\"MERCHANT_COUNTRY\")"
   ]
  },
  {
   "cell_type": "markdown",
   "metadata": {},
   "source": [
    "For Fraudster, Great Britan percentage is more than 2 times as none fraud transaction."
   ]
  },
  {
   "cell_type": "code",
   "execution_count": 8,
   "metadata": {},
   "outputs": [
    {
     "name": "stdout",
     "output_type": "stream",
     "text": [
      "Fraudster:\n",
      " misc    0.394760\n",
      "manu    0.241835\n",
      "chip    0.231245\n",
      "cont    0.129616\n",
      "mags    0.002407\n",
      "mcon    0.000138\n",
      "Name: ENTRY_METHOD, dtype: float64\n",
      "\n",
      "\n",
      "Not_Fraud:\n",
      " misc    0.328762\n",
      "chip    0.267463\n",
      "cont    0.235848\n",
      "manu    0.134155\n",
      "mags    0.033045\n",
      "mcon    0.000727\n",
      "Name: ENTRY_METHOD, dtype: float64\n"
     ]
    }
   ],
   "source": [
    "check_percentage(\"ENTRY_METHOD\")"
   ]
  },
  {
   "cell_type": "markdown",
   "metadata": {},
   "source": [
    "For Fraudster, manu percentage is almost 2 times as none fraud transaction."
   ]
  },
  {
   "cell_type": "code",
   "execution_count": 9,
   "metadata": {},
   "outputs": [
    {
     "name": "stdout",
     "output_type": "stream",
     "text": [
      "Fraudster:\n",
      " CARD_PAYMENT     0.470948\n",
      "TOPUP            0.260744\n",
      "ATM              0.153751\n",
      "BANK_TRANSFER    0.084577\n",
      "P2P              0.029980\n",
      "Name: TYPE, dtype: float64\n",
      "\n",
      "\n",
      "Not_Fraud:\n",
      " CARD_PAYMENT     0.637466\n",
      "TOPUP            0.191021\n",
      "P2P              0.082927\n",
      "ATM              0.066885\n",
      "BANK_TRANSFER    0.021700\n",
      "Name: TYPE, dtype: float64\n"
     ]
    }
   ],
   "source": [
    "check_percentage(\"TYPE\")"
   ]
  },
  {
   "cell_type": "markdown",
   "metadata": {},
   "source": [
    "For Fraudster, bank transfer percentage is almost 4 times as none fraud transaction."
   ]
  },
  {
   "cell_type": "code",
   "execution_count": 11,
   "metadata": {},
   "outputs": [
    {
     "name": "stdout",
     "output_type": "stream",
     "text": [
      "Fraudster:\n",
      " GAIA        0.624699\n",
      "MINOS       0.200165\n",
      "HERA        0.120195\n",
      "INTERNAL    0.029980\n",
      "LETO        0.009695\n",
      "CRONUS      0.008045\n",
      "Name: SOURCE, dtype: float64\n",
      "\n",
      "\n",
      "Not_Fraud:\n",
      " GAIA        0.704258\n",
      "HERA        0.169606\n",
      "INTERNAL    0.083030\n",
      "MINOS       0.012083\n",
      "LETO        0.010079\n",
      "CRONUS      0.008933\n",
      "Name: SOURCE, dtype: float64\n"
     ]
    }
   ],
   "source": [
    "check_percentage(\"SOURCE\")"
   ]
  },
  {
   "cell_type": "markdown",
   "metadata": {},
   "source": [
    "For Fraudster, minos percentage is more than 15 times as none fraud transaction."
   ]
  },
  {
   "cell_type": "markdown",
   "metadata": {},
   "source": [
    "### Users Data Set"
   ]
  },
  {
   "cell_type": "code",
   "execution_count": 13,
   "metadata": {},
   "outputs": [
    {
     "data": {
      "text/html": [
       "<div>\n",
       "<style scoped>\n",
       "    .dataframe tbody tr th:only-of-type {\n",
       "        vertical-align: middle;\n",
       "    }\n",
       "\n",
       "    .dataframe tbody tr th {\n",
       "        vertical-align: top;\n",
       "    }\n",
       "\n",
       "    .dataframe thead th {\n",
       "        text-align: right;\n",
       "    }\n",
       "</style>\n",
       "<table border=\"1\" class=\"dataframe\">\n",
       "  <thead>\n",
       "    <tr style=\"text-align: right;\">\n",
       "      <th></th>\n",
       "      <th>FAILED_SIGN_IN_ATTEMPTS</th>\n",
       "      <th>KYC</th>\n",
       "      <th>BIRTH_YEAR</th>\n",
       "      <th>COUNTRY</th>\n",
       "      <th>STATE</th>\n",
       "      <th>CREATED_DATE</th>\n",
       "      <th>TERMS_VERSION</th>\n",
       "      <th>PHONE_COUNTRY</th>\n",
       "      <th>HAS_EMAIL</th>\n",
       "      <th>ID</th>\n",
       "    </tr>\n",
       "  </thead>\n",
       "  <tbody>\n",
       "    <tr>\n",
       "      <th>0</th>\n",
       "      <td>0</td>\n",
       "      <td>PASSED</td>\n",
       "      <td>1971</td>\n",
       "      <td>GB</td>\n",
       "      <td>ACTIVE</td>\n",
       "      <td>2017-08-06 07:33:33.341000</td>\n",
       "      <td>2018-05-25</td>\n",
       "      <td>GB||JE||IM||GG</td>\n",
       "      <td>1</td>\n",
       "      <td>1872820f-e3ac-4c02-bdc7-727897b60043</td>\n",
       "    </tr>\n",
       "    <tr>\n",
       "      <th>1</th>\n",
       "      <td>0</td>\n",
       "      <td>PASSED</td>\n",
       "      <td>1982</td>\n",
       "      <td>GB</td>\n",
       "      <td>ACTIVE</td>\n",
       "      <td>2017-03-07 10:18:59.427000</td>\n",
       "      <td>2018-01-01</td>\n",
       "      <td>GB||JE||IM||GG</td>\n",
       "      <td>1</td>\n",
       "      <td>545ff94d-66f8-4bea-b398-84425fb2301e</td>\n",
       "    </tr>\n",
       "    <tr>\n",
       "      <th>2</th>\n",
       "      <td>0</td>\n",
       "      <td>PASSED</td>\n",
       "      <td>1973</td>\n",
       "      <td>ES</td>\n",
       "      <td>ACTIVE</td>\n",
       "      <td>2018-05-31 04:41:24.672000</td>\n",
       "      <td>2018-09-20</td>\n",
       "      <td>ES</td>\n",
       "      <td>1</td>\n",
       "      <td>10376f1a-a28a-4885-8daa-c8ca496026bb</td>\n",
       "    </tr>\n",
       "    <tr>\n",
       "      <th>3</th>\n",
       "      <td>0</td>\n",
       "      <td>PASSED</td>\n",
       "      <td>1986</td>\n",
       "      <td>FR</td>\n",
       "      <td>ACTIVE</td>\n",
       "      <td>2018-06-01 17:24:23.852000</td>\n",
       "      <td>2018-05-25</td>\n",
       "      <td>FR</td>\n",
       "      <td>1</td>\n",
       "      <td>fd308db7-0753-4377-879f-6ecf2af14e4f</td>\n",
       "    </tr>\n",
       "    <tr>\n",
       "      <th>4</th>\n",
       "      <td>0</td>\n",
       "      <td>PASSED</td>\n",
       "      <td>1989</td>\n",
       "      <td>GB</td>\n",
       "      <td>ACTIVE</td>\n",
       "      <td>2017-08-09 15:03:33.945000</td>\n",
       "      <td>2018-09-20</td>\n",
       "      <td>GB||JE||IM||GG</td>\n",
       "      <td>1</td>\n",
       "      <td>755fe256-a34d-4853-b7ca-d9bb991a86d3</td>\n",
       "    </tr>\n",
       "  </tbody>\n",
       "</table>\n",
       "</div>"
      ],
      "text/plain": [
       "   FAILED_SIGN_IN_ATTEMPTS     KYC  BIRTH_YEAR COUNTRY   STATE  \\\n",
       "0                        0  PASSED        1971      GB  ACTIVE   \n",
       "1                        0  PASSED        1982      GB  ACTIVE   \n",
       "2                        0  PASSED        1973      ES  ACTIVE   \n",
       "3                        0  PASSED        1986      FR  ACTIVE   \n",
       "4                        0  PASSED        1989      GB  ACTIVE   \n",
       "\n",
       "                 CREATED_DATE TERMS_VERSION   PHONE_COUNTRY  HAS_EMAIL  \\\n",
       "0  2017-08-06 07:33:33.341000    2018-05-25  GB||JE||IM||GG          1   \n",
       "1  2017-03-07 10:18:59.427000    2018-01-01  GB||JE||IM||GG          1   \n",
       "2  2018-05-31 04:41:24.672000    2018-09-20              ES          1   \n",
       "3  2018-06-01 17:24:23.852000    2018-05-25              FR          1   \n",
       "4  2017-08-09 15:03:33.945000    2018-09-20  GB||JE||IM||GG          1   \n",
       "\n",
       "                                     ID  \n",
       "0  1872820f-e3ac-4c02-bdc7-727897b60043  \n",
       "1  545ff94d-66f8-4bea-b398-84425fb2301e  \n",
       "2  10376f1a-a28a-4885-8daa-c8ca496026bb  \n",
       "3  fd308db7-0753-4377-879f-6ecf2af14e4f  \n",
       "4  755fe256-a34d-4853-b7ca-d9bb991a86d3  "
      ]
     },
     "execution_count": 13,
     "metadata": {},
     "output_type": "execute_result"
    }
   ],
   "source": [
    "users.head()"
   ]
  },
  {
   "cell_type": "code",
   "execution_count": 35,
   "metadata": {},
   "outputs": [],
   "source": [
    "users.PHONE_COUNTRY = users.PHONE_COUNTRY.apply(lambda x: x.split(\"||\"))\n",
    "users[\"phone\"] = users.PHONE_COUNTRY.apply(lambda x: len(x))\n",
    "users = pd.merge(users,fraud,how=\"left\",left_on=\"ID\",right_on = \"user_id\")\n",
    "users[\"is_fraud\"] = users.user_id.apply(lambda x:0 if x is np.nan else 1)"
   ]
  },
  {
   "cell_type": "markdown",
   "metadata": {},
   "source": [
    "covert phone country column to a list, create column phone which is the count of element in the phone country list\n",
    "\n",
    "merge with the fraud dataframe to identify whcich user is fraud"
   ]
  },
  {
   "cell_type": "code",
   "execution_count": 38,
   "metadata": {},
   "outputs": [
    {
     "data": {
      "text/plain": [
       "PASSED     0.866667\n",
       "FAILED     0.073333\n",
       "PENDING    0.056667\n",
       "NONE       0.003333\n",
       "Name: KYC, dtype: float64"
      ]
     },
     "execution_count": 38,
     "metadata": {},
     "output_type": "execute_result"
    }
   ],
   "source": [
    "users[users.is_fraud == 1].KYC.value_counts()/ len(users[users.is_fraud == 1])"
   ]
  },
  {
   "cell_type": "code",
   "execution_count": 39,
   "metadata": {},
   "outputs": [
    {
     "data": {
      "text/plain": [
       "PASSED     0.6906\n",
       "NONE       0.2763\n",
       "FAILED     0.0270\n",
       "PENDING    0.0061\n",
       "Name: KYC, dtype: float64"
      ]
     },
     "execution_count": 39,
     "metadata": {},
     "output_type": "execute_result"
    }
   ],
   "source": [
    "users[users.is_fraud == 0].KYC.value_counts() / len(users[users.is_fraud == 0])"
   ]
  },
  {
   "cell_type": "markdown",
   "metadata": {},
   "source": [
    "Fraud user tend to have KYC of failed and pending,and no nearly no None, which is the status of identification process."
   ]
  },
  {
   "cell_type": "code",
   "execution_count": 42,
   "metadata": {},
   "outputs": [
    {
     "data": {
      "text/plain": [
       "4    0.880000\n",
       "1    0.113333\n",
       "3    0.006667\n",
       "Name: phone, dtype: float64"
      ]
     },
     "execution_count": 42,
     "metadata": {},
     "output_type": "execute_result"
    }
   ],
   "source": [
    "users[users.is_fraud == 1].phone.value_counts()/ len(users[users.is_fraud == 1])"
   ]
  },
  {
   "cell_type": "code",
   "execution_count": 43,
   "metadata": {},
   "outputs": [
    {
     "data": {
      "text/plain": [
       "1    0.5583\n",
       "4    0.4270\n",
       "3    0.0082\n",
       "2    0.0065\n",
       "Name: phone, dtype: float64"
      ]
     },
     "execution_count": 43,
     "metadata": {},
     "output_type": "execute_result"
    }
   ],
   "source": [
    "users[users.is_fraud == 0].phone.value_counts() / len(users[users.is_fraud == 0])"
   ]
  },
  {
   "cell_type": "markdown",
   "metadata": {},
   "source": [
    "Fraud user tend to have length of phone to be 4."
   ]
  },
  {
   "cell_type": "code",
   "execution_count": 50,
   "metadata": {},
   "outputs": [],
   "source": [
    "fraud = users[users.is_fraud == 1]\n",
    "not_fraud = users[users.is_fraud == 0]"
   ]
  },
  {
   "cell_type": "code",
   "execution_count": 56,
   "metadata": {},
   "outputs": [
    {
     "data": {
      "image/png": "[encoded data removed]",
      "text/plain": [
       "<Figure size 432x288 with 1 Axes>"
      ]
     },
     "metadata": {
      "needs_background": "light"
     },
     "output_type": "display_data"
    }
   ],
   "source": [
    "sns.distplot((pd.to_datetime(users.CREATED_DATE).max() - pd.to_datetime(fraud.CREATED_DATE)).dt.days);"
   ]
  },
  {
   "cell_type": "code",
   "execution_count": 57,
   "metadata": {},
   "outputs": [
    {
     "data": {
      "image/png": "[encoded data removed]",
      "text/plain": [
       "<Figure size 432x288 with 1 Axes>"
      ]
     },
     "metadata": {
      "needs_background": "light"
     },
     "output_type": "display_data"
    }
   ],
   "source": [
    "sns.distplot((pd.to_datetime(users.CREATED_DATE).max() - pd.to_datetime(not_fraud.CREATED_DATE)).dt.days);"
   ]
  },
  {
   "cell_type": "markdown",
   "metadata": {},
   "source": [
    "For both group, user account age seems to have similar distribution, user that are not fraud had a fatter tail."
   ]
  },
  {
   "cell_type": "code",
   "execution_count": null,
   "metadata": {},
   "outputs": [],
   "source": []
  }
 ],
 "metadata": {
  "kernelspec": {
   "display_name": "Python 3",
   "language": "python",
   "name": "python3"
  },
  "language_info": {
   "codemirror_mode": {
    "name": "ipython",
    "version": 3
   },
   "file_extension": ".py",
   "mimetype": "text/x-python",
   "name": "python",
   "nbconvert_exporter": "python",
   "pygments_lexer": "ipython3",
   "version": "3.7.2"
  }
 },
 "nbformat": 4,
 "nbformat_minor": 2
}
