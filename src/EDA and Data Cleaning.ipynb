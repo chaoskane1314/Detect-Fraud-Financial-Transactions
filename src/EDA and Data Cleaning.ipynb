{
 "cells": [
  {
   "cell_type": "code",
   "execution_count": 1,
   "metadata": {},
   "outputs": [],
   "source": [
    "import pandas as pd\n",
    "import matplotlib.pyplot as plt\n",
    "import numpy as np\n",
    "import seaborn as sns\n",
    "%matplotlib inline"
   ]
  },
  {
   "cell_type": "markdown",
   "metadata": {},
   "source": [
    "Load the data.\n",
    "\n",
    "Transaction data frame contain detail of all transacion.\n",
    "Fraud data frame contain a list of fraudster\n",
    "Users data frame contain information of the user."
   ]
  },
  {
   "cell_type": "code",
   "execution_count": 2,
   "metadata": {},
   "outputs": [],
   "source": [
    "transaction = pd.read_csv(\"../data/train_transactions.csv\",index_col = 0)\n",
    "fraud = pd.read_csv(\"../data/train_fraudsters.csv\",index_col = 0)\n",
    "users = pd.read_csv(\"../data/train_users.csv\",index_col = 0)\n",
    "rate = pd.read_csv(\"../data/fx_rates.csv\")\n",
    "transaction.Fraud = transaction.Fraud.apply(lambda x: 0 if x== \"0\" else 1)"
   ]
  },
  {
   "cell_type": "markdown",
   "metadata": {},
   "source": [
    "## Transaction dataframe"
   ]
  },
  {
   "cell_type": "code",
   "execution_count": null,
   "metadata": {
    "scrolled": false
   },
   "outputs": [],
   "source": [
    "transaction.head()"
   ]
  },
  {
   "cell_type": "markdown",
   "metadata": {},
   "source": [
    "The column State looks like leakage, will not use it in model"
   ]
  },
  {
   "cell_type": "code",
   "execution_count": null,
   "metadata": {},
   "outputs": [],
   "source": [
    "print(transaction.groupby(\"USER_ID\").median().Fraud.value_counts())\n",
    "\n",
    "print(transaction.groupby(\"USER_ID\").median().Fraud.value_counts() / len(transaction.groupby(\"USER_ID\").median().Fraud))\n",
    "      \n",
    "      \n",
    "      \n",
    "      \n",
    "      "
   ]
  },
  {
   "cell_type": "markdown",
   "metadata": {},
   "source": [
    "### Missing Data"
   ]
  },
  {
   "cell_type": "code",
   "execution_count": null,
   "metadata": {
    "scrolled": true
   },
   "outputs": [],
   "source": [
    "transaction.info()"
   ]
  },
  {
   "cell_type": "code",
   "execution_count": null,
   "metadata": {
    "scrolled": true
   },
   "outputs": [],
   "source": [
    "plt.figure(figsize=(12,12))\n",
    "sns.heatmap(transaction.isna(),cbar = False)\n",
    "plt.savefig(\"../img/missing.png\")"
   ]
  },
  {
   "cell_type": "markdown",
   "metadata": {},
   "source": [
    "### Numberical features"
   ]
  },
  {
   "cell_type": "markdown",
   "metadata": {},
   "source": [
    "MERCHANT_CATEGORY has alot of missing data, MERCHANT_COUNTRY has about 30% missing data as well."
   ]
  },
  {
   "cell_type": "code",
   "execution_count": null,
   "metadata": {
    "scrolled": false
   },
   "outputs": [],
   "source": [
    "plt.figure(figsize=(10,6))\n",
    "sns.boxplot(transaction.Fraud,transaction.AMOUNT)\n",
    "plt.savefig(\"../img/Amount.png\")"
   ]
  },
  {
   "cell_type": "markdown",
   "metadata": {},
   "source": [
    "Look at the box plot of the transaction amount, it looks like there is a lot of outliers."
   ]
  },
  {
   "cell_type": "markdown",
   "metadata": {},
   "source": [
    "### Catergorical Features"
   ]
  },
  {
   "cell_type": "code",
   "execution_count": null,
   "metadata": {},
   "outputs": [],
   "source": [
    "fraudster = transaction[transaction.Fraud == 1]\n",
    "normal = transaction[transaction.Fraud == 0]"
   ]
  },
  {
   "cell_type": "code",
   "execution_count": null,
   "metadata": {},
   "outputs": [],
   "source": [
    "def check_percentage(column):\n",
    "    \"\"\"\n",
    "    Return the percentage of catergorical variable in each column for fraud trasaction and regular transaction\n",
    "    input: \n",
    "    \"\"\"\n",
    "    a = fraudster[column].value_counts().head(6) /len(fraudster)\n",
    "    b = normal[column].value_counts().head(6) /len(normal)\n",
    "    \n",
    "    print(\"Fraudster:\\n\",a)\n",
    "    print(\"\\n\")\n",
    "    print(\"Not_Fraud:\\n\",b)\n",
    "    fig,ax = plt.subplots(nrows=1, ncols=2,figsize=(12,6))\n",
    "    ax[0].bar(a.index,a.values)\n",
    "    ax[0].set_title(\"Fraud {} Distrubution\".format(column))\n",
    "    ax[0].set_xticklabels(a.index, rotation=45)\n",
    "    ax[1].bar(b.index,b.values)\n",
    "    ax[1].set_title(\"Non Fraud {} Distrubution\".format(column))\n",
    "    ax[1].set_xticklabels(b.index, rotation=45)\n",
    "    plt.tight_layout()\n",
    "    plt.savefig(\"../img/{}\".format(column))"
   ]
  },
  {
   "cell_type": "code",
   "execution_count": null,
   "metadata": {},
   "outputs": [],
   "source": [
    "check_percentage(\"CURRENCY\")"
   ]
  },
  {
   "cell_type": "markdown",
   "metadata": {},
   "source": [
    "Fraudster has over 90% transaction is in GBP"
   ]
  },
  {
   "cell_type": "code",
   "execution_count": null,
   "metadata": {},
   "outputs": [],
   "source": [
    "check_percentage(\"MERCHANT_CATEGORY\")"
   ]
  },
  {
   "cell_type": "markdown",
   "metadata": {},
   "source": [
    "For Fraudster, atm transaction percentage is more than 4 times as none fraud transaction."
   ]
  },
  {
   "cell_type": "code",
   "execution_count": null,
   "metadata": {},
   "outputs": [],
   "source": [
    "check_percentage(\"MERCHANT_COUNTRY\")"
   ]
  },
  {
   "cell_type": "markdown",
   "metadata": {},
   "source": [
    "For Fraudster, Great Britan percentage is more than 2 times as none fraud transaction."
   ]
  },
  {
   "cell_type": "code",
   "execution_count": null,
   "metadata": {},
   "outputs": [],
   "source": [
    "check_percentage(\"ENTRY_METHOD\")"
   ]
  },
  {
   "cell_type": "markdown",
   "metadata": {},
   "source": [
    "For Fraudster, manu percentage is almost 2 times as none fraud transaction."
   ]
  },
  {
   "cell_type": "code",
   "execution_count": null,
   "metadata": {},
   "outputs": [],
   "source": [
    "check_percentage(\"TYPE\")"
   ]
  },
  {
   "cell_type": "markdown",
   "metadata": {},
   "source": [
    "For Fraudster, bank transfer percentage is almost 4 times as none fraud transaction."
   ]
  },
  {
   "cell_type": "code",
   "execution_count": null,
   "metadata": {},
   "outputs": [],
   "source": [
    "check_percentage(\"SOURCE\")"
   ]
  },
  {
   "cell_type": "markdown",
   "metadata": {},
   "source": [
    "For Fraudster, minos percentage is more than 15 times as none fraud transaction."
   ]
  },
  {
   "cell_type": "markdown",
   "metadata": {},
   "source": [
    "### Users Data Set"
   ]
  },
  {
   "cell_type": "code",
   "execution_count": null,
   "metadata": {},
   "outputs": [],
   "source": [
    "users.head()"
   ]
  },
  {
   "cell_type": "code",
   "execution_count": null,
   "metadata": {},
   "outputs": [],
   "source": [
    "users.PHONE_COUNTRY = users.PHONE_COUNTRY.apply(lambda x: x.split(\"||\"))\n",
    "users[\"phone\"] = users.PHONE_COUNTRY.apply(lambda x: len(x))\n",
    "users = pd.merge(users,fraud,how=\"left\",left_on=\"ID\",right_on = \"user_id\")\n",
    "users[\"is_fraud\"] = users.user_id.apply(lambda x:0 if x is np.nan else 1)"
   ]
  },
  {
   "cell_type": "markdown",
   "metadata": {},
   "source": [
    "covert phone country column to a list, create column phone which is the count of element in the phone country list\n",
    "\n",
    "merge with the fraud dataframe to identify whcich user is fraud"
   ]
  },
  {
   "cell_type": "code",
   "execution_count": null,
   "metadata": {},
   "outputs": [],
   "source": [
    "users[users.is_fraud == 1].KYC.value_counts()/ len(users[users.is_fraud == 1])"
   ]
  },
  {
   "cell_type": "code",
   "execution_count": null,
   "metadata": {},
   "outputs": [],
   "source": [
    "users[users.is_fraud == 0].KYC.value_counts() / len(users[users.is_fraud == 0])"
   ]
  },
  {
   "cell_type": "markdown",
   "metadata": {},
   "source": [
    "Fraud user tend to have KYC of failed and pending,and no nearly no None, which is the status of identification process."
   ]
  },
  {
   "cell_type": "code",
   "execution_count": null,
   "metadata": {},
   "outputs": [],
   "source": [
    "users[users.is_fraud == 1].phone.value_counts()/ len(users[users.is_fraud == 1])"
   ]
  },
  {
   "cell_type": "code",
   "execution_count": null,
   "metadata": {},
   "outputs": [],
   "source": [
    "users[users.is_fraud == 0].phone.value_counts() / len(users[users.is_fraud == 0])"
   ]
  },
  {
   "cell_type": "markdown",
   "metadata": {},
   "source": [
    "Fraud user tend to have length of phone to be 4."
   ]
  },
  {
   "cell_type": "code",
   "execution_count": null,
   "metadata": {},
   "outputs": [],
   "source": [
    "fraud = users[users.is_fraud == 1]\n",
    "not_fraud = users[users.is_fraud == 0]"
   ]
  },
  {
   "cell_type": "code",
   "execution_count": null,
   "metadata": {},
   "outputs": [],
   "source": [
    "sns.distplot((pd.to_datetime(users.CREATED_DATE).max() - pd.to_datetime(fraud.CREATED_DATE)).dt.days);\n",
    "plt.title(\"Fraud User Account Age\")\n",
    "plt.savefig(\"\")"
   ]
  },
  {
   "cell_type": "code",
   "execution_count": null,
   "metadata": {},
   "outputs": [],
   "source": [
    "sns.distplot((pd.to_datetime(users.CREATED_DATE).max() - pd.to_datetime(not_fraud.CREATED_DATE)).dt.days);\n",
    "plt.title(\"Non Fraud User Account Age\")"
   ]
  },
  {
   "cell_type": "markdown",
   "metadata": {},
   "source": [
    "For both group, user account age seems to have similar distribution, user that are not fraud had a fatter tail."
   ]
  },
  {
   "cell_type": "code",
   "execution_count": null,
   "metadata": {},
   "outputs": [],
   "source": [
    "fig, axes =plt.subplots(1,2,figsize=(12,6))\n",
    "sns.distplot((pd.to_datetime(users.CREATED_DATE).max() - pd.to_datetime(fraud.CREATED_DATE)).dt.days,ax =axes[0])\n",
    "axes[0].set_title(\"Fraud User Account Age\")\n",
    "sns.distplot((pd.to_datetime(users.CREATED_DATE).max() - pd.to_datetime(not_fraud.CREATED_DATE)).dt.days,ax= axes[1]);\n",
    "axes[1].set_title(\"Non Fraud User Account Age\")\n",
    "plt.savefig(\"../img/Account Age\")"
   ]
  },
  {
   "cell_type": "code",
   "execution_count": null,
   "metadata": {},
   "outputs": [],
   "source": [
    "def check_percentage(column):\n",
    "    \"\"\"\n",
    "    Return the percentage of catergorical variable in each column for fraud trasaction and regular transaction\n",
    "    input: \n",
    "    \"\"\"\n",
    "    a = fraudster[column].value_counts().head(6) /len(fraudster)\n",
    "    b = normal[column].value_counts().head(6) /len(normal)\n",
    "    \n",
    "#     print(\"Fraudster:\\n\",a)\n",
    "#     print(\"\\n\")\n",
    "#     print(\"Not_Fraud:\\n\",b)\n",
    "#     fig,ax = plt.subplots(nrows=1, ncols=2,figsize=(12,6))\n",
    "    plt.bar(a.index,a.values,label= \"Fraud\",alpha =0.8)\n",
    "    plt.title(\"Fraud {} Distrubution\".format(column))\n",
    "#     plt.set_xticklabels(a.index, rotation=45)\n",
    "    plt.bar(b.index,b.values,alpha = 0.8,label = \"Not Fraud\")\n",
    "    plt.legend()\n",
    "#     ax[1].set_title(\"Non Fraud {} Distrubution\".format(column))\n",
    "#     ax[1].set_xticklabels(b.index, rotation=45)\n",
    "#     plt.tight_layout()\n",
    "#     plt.savefig(\"../img/{}\".format(column))"
   ]
  },
  {
   "cell_type": "code",
   "execution_count": null,
   "metadata": {
    "scrolled": true
   },
   "outputs": [],
   "source": [
    "check_percentage(\"SOURCE\")"
   ]
  },
  {
   "cell_type": "code",
   "execution_count": null,
   "metadata": {},
   "outputs": [],
   "source": [
    "sns.bar"
   ]
  },
  {
   "cell_type": "code",
   "execution_count": 3,
   "metadata": {},
   "outputs": [
    {
     "data": {
      "text/plain": [
       "GAIA        483831\n",
       "HERA        116081\n",
       "INTERNAL     56407\n",
       "MINOS        11056\n",
       "LETO          6935\n",
       "CRONUS        6139\n",
       "NYX           5178\n",
       "OPHION        1278\n",
       "LIMOS          961\n",
       "APOLLO         784\n",
       "BRIZO            1\n",
       "Name: SOURCE, dtype: int64"
      ]
     },
     "execution_count": 3,
     "metadata": {},
     "output_type": "execute_result"
    }
   ],
   "source": [
    "transaction.SOURCE.value_counts()"
   ]
  },
  {
   "cell_type": "code",
   "execution_count": 4,
   "metadata": {},
   "outputs": [
    {
     "data": {
      "text/plain": [
       "<matplotlib.axes._subplots.AxesSubplot at 0x1a17d97358>"
      ]
     },
     "execution_count": 4,
     "metadata": {},
     "output_type": "execute_result"
    },
    {
     "data": {
      "image/png": "[encoded data removed]",
      "text/plain": [
       "<Figure size 432x288 with 1 Axes>"
      ]
     },
     "metadata": {
      "needs_background": "light"
     },
     "output_type": "display_data"
    }
   ],
   "source": [
    "sns.countplot(transaction.SOURCE,hue = transaction.Fraud)"
   ]
  },
  {
   "cell_type": "code",
   "execution_count": 7,
   "metadata": {},
   "outputs": [
    {
     "ename": "TypeError",
     "evalue": "cannot perform __truediv__ with this index type: Index",
     "output_type": "error",
     "traceback": [
      "\u001b[0;31m---------------------------------------------------------------------------\u001b[0m",
      "\u001b[0;31mTypeError\u001b[0m                                 Traceback (most recent call last)",
      "\u001b[0;32m<ipython-input-7-a727298c1b5f>\u001b[0m in \u001b[0;36m<module>\u001b[0;34m\u001b[0m\n\u001b[0;32m----> 1\u001b[0;31m \u001b[0msns\u001b[0m\u001b[0;34m.\u001b[0m\u001b[0mbarplot\u001b[0m\u001b[0;34m(\u001b[0m\u001b[0mtransaction\u001b[0m\u001b[0;34m.\u001b[0m\u001b[0mSOURCE\u001b[0m\u001b[0;34m.\u001b[0m\u001b[0mvalue_counts\u001b[0m\u001b[0;34m(\u001b[0m\u001b[0;34m)\u001b[0m\u001b[0;34m.\u001b[0m\u001b[0mindex\u001b[0m \u001b[0;34m/\u001b[0m \u001b[0mlen\u001b[0m\u001b[0;34m(\u001b[0m\u001b[0mtransaction\u001b[0m\u001b[0;34m)\u001b[0m\u001b[0;34m,\u001b[0m\u001b[0mtransaction\u001b[0m\u001b[0;34m.\u001b[0m\u001b[0mSOURCE\u001b[0m\u001b[0;34m.\u001b[0m\u001b[0mvalue_counts\u001b[0m\u001b[0;34m(\u001b[0m\u001b[0;34m)\u001b[0m\u001b[0;34m.\u001b[0m\u001b[0mvalues\u001b[0m\u001b[0;34m)\u001b[0m\u001b[0;34m\u001b[0m\u001b[0;34m\u001b[0m\u001b[0m\n\u001b[0m",
      "\u001b[0;32m/anaconda3/lib/python3.7/site-packages/pandas/core/ops.py\u001b[0m in \u001b[0;36minvalid_op\u001b[0;34m(self, other)\u001b[0m\n\u001b[1;32m    212\u001b[0m     \u001b[0;32mdef\u001b[0m \u001b[0minvalid_op\u001b[0m\u001b[0;34m(\u001b[0m\u001b[0mself\u001b[0m\u001b[0;34m,\u001b[0m \u001b[0mother\u001b[0m\u001b[0;34m=\u001b[0m\u001b[0;32mNone\u001b[0m\u001b[0;34m)\u001b[0m\u001b[0;34m:\u001b[0m\u001b[0;34m\u001b[0m\u001b[0;34m\u001b[0m\u001b[0m\n\u001b[1;32m    213\u001b[0m         raise TypeError(\"cannot perform {name} with this index type: \"\n\u001b[0;32m--> 214\u001b[0;31m                         \"{typ}\".format(name=name, typ=type(self).__name__))\n\u001b[0m\u001b[1;32m    215\u001b[0m \u001b[0;34m\u001b[0m\u001b[0m\n\u001b[1;32m    216\u001b[0m     \u001b[0minvalid_op\u001b[0m\u001b[0;34m.\u001b[0m\u001b[0m__name__\u001b[0m \u001b[0;34m=\u001b[0m \u001b[0mname\u001b[0m\u001b[0;34m\u001b[0m\u001b[0;34m\u001b[0m\u001b[0m\n",
      "\u001b[0;31mTypeError\u001b[0m: cannot perform __truediv__ with this index type: Index"
     ]
    }
   ],
   "source": [
    "sns.barplot(transaction.SOURCE.value_counts().index / len(transaction)\n",
    "            ,transaction.SOURCE.value_counts().values)"
   ]
  },
  {
   "cell_type": "code",
   "execution_count": 43,
   "metadata": {},
   "outputs": [],
   "source": [
    "a = transaction[transaction.Fraud == 0].SOURCE.value_counts().head(6) /len(transaction[transaction.Fraud == 0])\n",
    "b = transaction[transaction.Fraud == 1].SOURCE.value_counts().head(6) /len(transaction[transaction.Fraud == 1])"
   ]
  },
  {
   "cell_type": "code",
   "execution_count": 22,
   "metadata": {},
   "outputs": [
    {
     "data": {
      "text/plain": [
       "<matplotlib.axes._subplots.AxesSubplot at 0x1a19440048>"
      ]
     },
     "execution_count": 22,
     "metadata": {},
     "output_type": "execute_result"
    },
    {
     "data": {
      "image/png": "[encoded data removed]",
      "text/plain": [
       "<Figure size 432x288 with 1 Axes>"
      ]
     },
     "metadata": {
      "needs_background": "light"
     },
     "output_type": "display_data"
    }
   ],
   "source": [
    "sns.barplot(a.index,a.values)"
   ]
  },
  {
   "cell_type": "code",
   "execution_count": 23,
   "metadata": {},
   "outputs": [
    {
     "data": {
      "text/plain": [
       "<matplotlib.axes._subplots.AxesSubplot at 0x1a1b8c03c8>"
      ]
     },
     "execution_count": 23,
     "metadata": {},
     "output_type": "execute_result"
    },
    {
     "data": {
      "image/png": "[encoded data removed]",
      "text/plain": [
       "<Figure size 432x288 with 1 Axes>"
      ]
     },
     "metadata": {
      "needs_background": "light"
     },
     "output_type": "display_data"
    }
   ],
   "source": [
    "sns.barplot(b.index,b.values)"
   ]
  },
  {
   "cell_type": "code",
   "execution_count": 25,
   "metadata": {},
   "outputs": [
    {
     "data": {
      "text/plain": [
       "GAIA        0.704258\n",
       "HERA        0.169606\n",
       "INTERNAL    0.083030\n",
       "MINOS       0.012083\n",
       "LETO        0.010079\n",
       "CRONUS      0.008933\n",
       "GAIA        0.624699\n",
       "MINOS       0.200165\n",
       "HERA        0.120195\n",
       "INTERNAL    0.029980\n",
       "LETO        0.009695\n",
       "CRONUS      0.008045\n",
       "Name: SOURCE, dtype: float64"
      ]
     },
     "execution_count": 25,
     "metadata": {},
     "output_type": "execute_result"
    }
   ],
   "source": [
    "pd.concat([a,b])"
   ]
  },
  {
   "cell_type": "code",
   "execution_count": 26,
   "metadata": {},
   "outputs": [],
   "source": [
    "a[\"fraud\"] =0"
   ]
  },
  {
   "cell_type": "code",
   "execution_count": 27,
   "metadata": {},
   "outputs": [
    {
     "data": {
      "text/plain": [
       "GAIA        0.704258\n",
       "HERA        0.169606\n",
       "INTERNAL    0.083030\n",
       "MINOS       0.012083\n",
       "LETO        0.010079\n",
       "CRONUS      0.008933\n",
       "fraud       0.000000\n",
       "Name: SOURCE, dtype: float64"
      ]
     },
     "execution_count": 27,
     "metadata": {},
     "output_type": "execute_result"
    }
   ],
   "source": [
    "b[\"fraud\"] = 1"
   ]
  },
  {
   "cell_type": "code",
   "execution_count": 46,
   "metadata": {},
   "outputs": [],
   "source": [
    "c = pd.DataFrame(a.values,a.index).reset_index()\n",
    "d = pd.DataFrame(b.values,b.index).reset_index()"
   ]
  },
  {
   "cell_type": "code",
   "execution_count": 61,
   "metadata": {
    "scrolled": true
   },
   "outputs": [],
   "source": [
    "c[\"Fraud\"] =0\n",
    "d[\"Fraud\"] =1"
   ]
  },
  {
   "cell_type": "code",
   "execution_count": 57,
   "metadata": {},
   "outputs": [],
   "source": [
    "d = pd.DataFrame(b.values,b.index).reset_index()"
   ]
  },
  {
   "cell_type": "code",
   "execution_count": 64,
   "metadata": {},
   "outputs": [],
   "source": [
    "e =pd.concat([c.reset_index(),d])"
   ]
  },
  {
   "cell_type": "code",
   "execution_count": 70,
   "metadata": {
    "scrolled": true
   },
   "outputs": [
    {
     "data": {
      "text/plain": [
       "<matplotlib.axes._subplots.AxesSubplot at 0x1a1a7dc278>"
      ]
     },
     "execution_count": 70,
     "metadata": {},
     "output_type": "execute_result"
    },
    {
     "data": {
      "image/png": "[encoded data removed]",
      "text/plain": [
       "<Figure size 432x288 with 1 Axes>"
      ]
     },
     "metadata": {
      "needs_background": "light"
     },
     "output_type": "display_data"
    }
   ],
   "source": [
    "sns.barplot(e[\"index\"],e[0],hue = e.Fraud)"
   ]
  },
  {
   "cell_type": "code",
   "execution_count": 83,
   "metadata": {},
   "outputs": [],
   "source": [
    "def side_compare(column):\n",
    "    plt.figure(figsize=(10,6))\n",
    "    not_fraud = transaction[transaction.Fraud == 0][column].value_counts().head(6) /len(transaction[transaction.Fraud == 0])\n",
    "    fraud = transaction[transaction.Fraud == 1][column].value_counts().head(6) /len(transaction[transaction.Fraud == 1])\n",
    "    c = pd.DataFrame(not_fraud.values,not_fraud.index).reset_index()\n",
    "    d = pd.DataFrame(fraud.values,fraud.index).reset_index()\n",
    "    c[\"Fraud\"] =\"Not Fraud\"\n",
    "    d[\"Fraud\"] =\"Fraud\"\n",
    "    e =pd.concat([c,d])\n",
    "    sns.barplot(e[\"index\"],e[0],hue = e.Fraud)\n",
    "    plt.title(\"{} Distrubution\".format(column))\n",
    "    "
   ]
  },
  {
   "cell_type": "code",
   "execution_count": 84,
   "metadata": {},
   "outputs": [
    {
     "data": {
      "image/png": "[encoded data removed]",
      "text/plain": [
       "<Figure size 720x432 with 1 Axes>"
      ]
     },
     "metadata": {
      "needs_background": "light"
     },
     "output_type": "display_data"
    }
   ],
   "source": [
    "side_compare(\"SOURCE\")\n",
    "plt.savefig(\"../img/SOURCE_COM.png\")"
   ]
  },
  {
   "cell_type": "code",
   "execution_count": 80,
   "metadata": {},
   "outputs": [
    {
     "data": {
      "image/png": "[encoded data removed]",
      "text/plain": [
       "<Figure size 720x432 with 1 Axes>"
      ]
     },
     "metadata": {
      "needs_background": "light"
     },
     "output_type": "display_data"
    }
   ],
   "source": [
    "side_compare(\"CURRENCY\")"
   ]
  },
  {
   "cell_type": "code",
   "execution_count": 81,
   "metadata": {},
   "outputs": [
    {
     "data": {
      "image/png": "[encoded data removed]",
      "text/plain": [
       "<Figure size 720x432 with 1 Axes>"
      ]
     },
     "metadata": {
      "needs_background": "light"
     },
     "output_type": "display_data"
    }
   ],
   "source": [
    "side_compare(\"MERCHANT_CATEGORY\")\n",
    "plt.savefig"
   ]
  },
  {
   "cell_type": "code",
   "execution_count": null,
   "metadata": {},
   "outputs": [],
   "source": []
  }
 ],
 "metadata": {
  "kernelspec": {
   "display_name": "Python 3",
   "language": "python",
   "name": "python3"
  },
  "language_info": {
   "codemirror_mode": {
    "name": "ipython",
    "version": 3
   },
   "file_extension": ".py",
   "mimetype": "text/x-python",
   "name": "python",
   "nbconvert_exporter": "python",
   "pygments_lexer": "ipython3",
   "version": "3.7.2"
  }
 },
 "nbformat": 4,
 "nbformat_minor": 2
}
