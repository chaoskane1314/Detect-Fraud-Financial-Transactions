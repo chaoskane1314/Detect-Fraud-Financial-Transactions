{
 "cells": [
  {
   "cell_type": "code",
   "execution_count": 2,
   "metadata": {},
   "outputs": [],
   "source": [
    "import pandas as pd\n",
    "import matplotlib.pyplot as plt\n",
    "import numpy as np\n",
    "import seaborn as sns\n",
    "from sklearn.ensemble import RandomForestClassifier,GradientBoostingClassifier\n",
    "from sklearn.model_selection import train_test_split\n",
    "from sklearn.metrics import classification_report\n",
    "from sklearn.preprocessing import LabelEncoder\n",
    "from imblearn.over_sampling import SMOTE\n",
    "from imblearn.under_sampling import RandomUnderSampler\n",
    "from sklearn.linear_model import LogisticRegression\n",
    "%matplotlib inline"
   ]
  },
  {
   "cell_type": "markdown",
   "metadata": {},
   "source": [
    "read the data"
   ]
  },
  {
   "cell_type": "code",
   "execution_count": 214,
   "metadata": {},
   "outputs": [],
   "source": [
    "transaction = pd.read_csv(\"../data/train_transactions.csv\",index_col = 0)\n",
    "fraud = pd.read_csv(\"../data/train_fraudsters.csv\",index_col = 0)\n",
    "users = pd.read_csv(\"../data/train_users.csv\",index_col = 0)\n",
    "transaction.Fraud = transaction.Fraud.apply(lambda x: 0 if x== \"0\" else 1)"
   ]
  },
  {
   "cell_type": "markdown",
   "metadata": {},
   "source": [
    "### Base Line Model\n",
    "\n",
    "Randomly Guess if it's Fraud or not\n",
    "<BR>\n",
    "Simple Logistic Model base on transaction Amount"
   ]
  },
  {
   "cell_type": "code",
   "execution_count": 191,
   "metadata": {},
   "outputs": [
    {
     "data": {
      "text/plain": [
       "0.19733462343519903"
      ]
     },
     "execution_count": 191,
     "metadata": {},
     "output_type": "execute_result"
    }
   ],
   "source": [
    "np.random.uniform(0,1)"
   ]
  },
  {
   "cell_type": "code",
   "execution_count": 192,
   "metadata": {},
   "outputs": [],
   "source": [
    "Guess_Fraud =  transaction.Fraud.apply(lambda x: 1 if np.random.uniform(0,1)>0.5 else 0)"
   ]
  },
  {
   "cell_type": "code",
   "execution_count": 193,
   "metadata": {},
   "outputs": [
    {
     "name": "stdout",
     "output_type": "stream",
     "text": [
      "              precision    recall  f1-score   support\n",
      "\n",
      "           0       0.98      0.50      0.66    674108\n",
      "           1       0.02      0.50      0.04     14543\n",
      "\n",
      "    accuracy                           0.50    688651\n",
      "   macro avg       0.50      0.50      0.35    688651\n",
      "weighted avg       0.96      0.50      0.65    688651\n",
      "\n"
     ]
    }
   ],
   "source": [
    "print(classification_report(transaction.Fraud,Guess_Fraud))"
   ]
  },
  {
   "cell_type": "markdown",
   "metadata": {},
   "source": [
    "With random guess, there is a 2% chance of being correct on predicting Fraud"
   ]
  },
  {
   "cell_type": "code",
   "execution_count": 195,
   "metadata": {},
   "outputs": [],
   "source": [
    "X = transaction.AMOUNT\n",
    "y = transaction.Fraud\n",
    "X_train, X_test, y_train, y_test = train_test_split(X, y, test_size=0.3, random_state=20,stratify = y)"
   ]
  },
  {
   "cell_type": "code",
   "execution_count": 198,
   "metadata": {},
   "outputs": [
    {
     "name": "stderr",
     "output_type": "stream",
     "text": [
      "/anaconda3/lib/python3.7/site-packages/sklearn/linear_model/logistic.py:432: FutureWarning: Default solver will be changed to 'lbfgs' in 0.22. Specify a solver to silence this warning.\n",
      "  FutureWarning)\n"
     ]
    },
    {
     "data": {
      "text/plain": [
       "LogisticRegression(C=1.0, class_weight=None, dual=False, fit_intercept=True,\n",
       "                   intercept_scaling=1, l1_ratio=None, max_iter=100,\n",
       "                   multi_class='warn', n_jobs=None, penalty='l2',\n",
       "                   random_state=None, solver='warn', tol=0.0001, verbose=0,\n",
       "                   warm_start=False)"
      ]
     },
     "execution_count": 198,
     "metadata": {},
     "output_type": "execute_result"
    }
   ],
   "source": [
    "log =  LogisticRegression()\n",
    "log.fit(np.array(X_train).reshape(-1,1),y_train)"
   ]
  },
  {
   "cell_type": "code",
   "execution_count": 199,
   "metadata": {},
   "outputs": [
    {
     "name": "stderr",
     "output_type": "stream",
     "text": [
      "/anaconda3/lib/python3.7/site-packages/sklearn/metrics/classification.py:1437: UndefinedMetricWarning: Precision and F-score are ill-defined and being set to 0.0 in labels with no predicted samples.\n",
      "  'precision', 'predicted', average, warn_for)\n"
     ]
    },
    {
     "name": "stdout",
     "output_type": "stream",
     "text": [
      "              precision    recall  f1-score   support\n",
      "\n",
      "           0       0.98      1.00      0.99    202233\n",
      "           1       0.00      0.00      0.00      4363\n",
      "\n",
      "    accuracy                           0.98    206596\n",
      "   macro avg       0.49      0.50      0.49    206596\n",
      "weighted avg       0.96      0.98      0.97    206596\n",
      "\n"
     ]
    }
   ],
   "source": [
    "print(classification_report(y_test,log.predict(np.array(X_test).reshape(-1,1))))"
   ]
  },
  {
   "cell_type": "markdown",
   "metadata": {},
   "source": [
    "Witch a Logistic model, it pretty much guess every as not fraud"
   ]
  },
  {
   "cell_type": "markdown",
   "metadata": {},
   "source": [
    "Build a Random Forest and Gradient Boosting Model"
   ]
  },
  {
   "cell_type": "code",
   "execution_count": 203,
   "metadata": {},
   "outputs": [],
   "source": [
    "X = transaction[[\"AMOUNT\",\"TYPE\",\"SOURCE\"]]\n",
    "X = pd.concat([X.AMOUNT,pd.get_dummies(X.drop(\"AMOUNT\",axis=1))],axis =1)\n",
    "y = transaction.Fraud"
   ]
  },
  {
   "cell_type": "markdown",
   "metadata": {},
   "source": [
    "using 3 features to build Random Forest and Gradient Boost"
   ]
  },
  {
   "cell_type": "code",
   "execution_count": 207,
   "metadata": {},
   "outputs": [],
   "source": [
    "X_train, X_test, y_train, y_test = train_test_split(X, y, test_size=0.3, random_state=20,stratify = y)"
   ]
  },
  {
   "cell_type": "code",
   "execution_count": 208,
   "metadata": {},
   "outputs": [
    {
     "name": "stderr",
     "output_type": "stream",
     "text": [
      "/anaconda3/lib/python3.7/site-packages/sklearn/ensemble/forest.py:245: FutureWarning: The default value of n_estimators will change from 10 in version 0.20 to 100 in 0.22.\n",
      "  \"10 in version 0.20 to 100 in 0.22.\", FutureWarning)\n"
     ]
    },
    {
     "name": "stdout",
     "output_type": "stream",
     "text": [
      "              precision    recall  f1-score   support\n",
      "\n",
      "           0       0.98      1.00      0.99    202233\n",
      "           1       0.49      0.13      0.21      4363\n",
      "\n",
      "    accuracy                           0.98    206596\n",
      "   macro avg       0.74      0.56      0.60    206596\n",
      "weighted avg       0.97      0.98      0.97    206596\n",
      "\n"
     ]
    }
   ],
   "source": [
    "rf = RandomForestClassifier()\n",
    "rf.fit(X_train,y_train)\n",
    "print(classification_report(y_test,rf.predict(X_test)))"
   ]
  },
  {
   "cell_type": "code",
   "execution_count": 209,
   "metadata": {},
   "outputs": [
    {
     "name": "stdout",
     "output_type": "stream",
     "text": [
      "              precision    recall  f1-score   support\n",
      "\n",
      "           0       0.98      1.00      0.99    202233\n",
      "           1       0.59      0.07      0.12      4363\n",
      "\n",
      "    accuracy                           0.98    206596\n",
      "   macro avg       0.79      0.53      0.56    206596\n",
      "weighted avg       0.97      0.98      0.97    206596\n",
      "\n"
     ]
    }
   ],
   "source": [
    "gb = GradientBoostingClassifier()\n",
    "gb.fit(X_train,y_train)\n",
    "print(classification_report(y_test,gb.predict(X_test)))"
   ]
  },
  {
   "cell_type": "markdown",
   "metadata": {},
   "source": [
    "Both the random forest model and gradient decent are not promising as well, with really low recall"
   ]
  },
  {
   "cell_type": "markdown",
   "metadata": {},
   "source": [
    "### Feature Engineering\n",
    "\n",
    "Base on the EDA, there is a lot of outliers\n",
    "\n",
    "And there is variable in the features can really distinguish between Fraud and not Fraud"
   ]
  },
  {
   "cell_type": "code",
   "execution_count": 215,
   "metadata": {},
   "outputs": [],
   "source": [
    "# transaction.Fraud = data.Fraud.apply(lambda x: 0 if x== \"0\" else 1)\n",
    "q = transaction.AMOUNT.quantile(0.99)\n",
    "transaction = transaction[transaction[\"AMOUNT\"] < q]\n",
    "transaction.AMOUNT = transaction.AMOUNT/100\n",
    "transaction.drop([\"STATE\"],axis =1,inplace= True)"
   ]
  },
  {
   "cell_type": "code",
   "execution_count": 217,
   "metadata": {},
   "outputs": [],
   "source": [
    "users.PHONE_COUNTRY = users.PHONE_COUNTRY.apply(lambda x: x.split(\"||\"))\n",
    "users[\"phone\"] = users.PHONE_COUNTRY.apply(lambda x: len(x))\n",
    "users = pd.merge(users,fraud,how=\"left\",left_on=\"ID\",right_on = \"user_id\")\n",
    "users[\"is_fraud\"] = users.user_id.apply(lambda x:0 if x is np.nan  else 1)"
   ]
  },
  {
   "cell_type": "code",
   "execution_count": 221,
   "metadata": {},
   "outputs": [],
   "source": [
    "transaction[\"is_atm\"] =transaction.MERCHANT_CATEGORY.apply(lambda x: 1 if x==\"atm\" else 0)\n",
    "transaction[\"is_GBR\"] = transaction.MERCHANT_COUNTRY.apply(lambda x: 1 if x==\"GBR\" else 0)\n",
    "transaction[\"is_USA\"] = transaction.MERCHANT_COUNTRY.apply(lambda x: 1 if x==\"USA\" else 0)\n",
    "transaction[\"is_manu\"] = transaction.ENTRY_METHOD.apply(lambda x: 1 if x==\"manu\" else 0)\n",
    "transaction[\"is_bank_transfer\"] = transaction.TYPE.apply(lambda x: 1 if x==\"BANK_TRANSFER\" else 0)\n",
    "transaction[\"is_minos\"] = transaction.SOURCE.apply(lambda x: 1 if x==\"MINOS\" else 0)\n",
    "users[\"is_kyc_none\"] = users.KYC.apply(lambda x: 1 if x==\"NONE\" else 0)\n",
    "users[\"is_4\"] =users.phone.apply(lambda x: 1 if x>=4 else 0)"
   ]
  },
  {
   "cell_type": "code",
   "execution_count": 222,
   "metadata": {},
   "outputs": [],
   "source": [
    "need1 = transaction[[\"AMOUNT\",\"USER_ID\",\"is_atm\",\"is_GBR\",\"is_manu\",\"is_bank_transfer\",\"is_minos\",\"Fraud\",\"is_USA\"]]\n",
    "need2 = users[[\"ID\",\"phone\",\"is_kyc_none\",\"is_4\"]]"
   ]
  },
  {
   "cell_type": "markdown",
   "metadata": {},
   "source": [
    "Create final data frame"
   ]
  },
  {
   "cell_type": "code",
   "execution_count": 224,
   "metadata": {},
   "outputs": [],
   "source": [
    "final_data = pd.merge(need1,need2,how = \"left\",left_on=\"USER_ID\",right_on =\"ID\")"
   ]
  },
  {
   "cell_type": "code",
   "execution_count": 225,
   "metadata": {},
   "outputs": [
    {
     "data": {
      "text/plain": [
       "Index(['AMOUNT', 'USER_ID', 'is_atm', 'is_GBR', 'is_manu', 'is_bank_transfer',\n",
       "       'is_minos', 'Fraud', 'is_USA', 'ID', 'phone', 'is_kyc_none', 'is_4'],\n",
       "      dtype='object')"
      ]
     },
     "execution_count": 225,
     "metadata": {},
     "output_type": "execute_result"
    }
   ],
   "source": [
    "final_data.columns"
   ]
  },
  {
   "cell_type": "markdown",
   "metadata": {},
   "source": [
    "Just want to keep 1 user id and get the median value"
   ]
  },
  {
   "cell_type": "code",
   "execution_count": 295,
   "metadata": {},
   "outputs": [],
   "source": [
    "final_data = final_data.groupby(\"USER_ID\").median().reset_index()"
   ]
  },
  {
   "cell_type": "code",
   "execution_count": 296,
   "metadata": {},
   "outputs": [],
   "source": [
    "X = final_data.drop([\"USER_ID\",\"Fraud\"],axis =1)\n",
    "y = final_data[\"Fraud\"]"
   ]
  },
  {
   "cell_type": "code",
   "execution_count": 297,
   "metadata": {},
   "outputs": [],
   "source": [
    "X_train, X_test, y_train, y_test = train_test_split(X, y, test_size=0.3, random_state=20,stratify = y)"
   ]
  },
  {
   "cell_type": "code",
   "execution_count": 275,
   "metadata": {},
   "outputs": [
    {
     "data": {
      "text/plain": [
       "RandomForestClassifier(bootstrap=True, class_weight=None, criterion='gini',\n",
       "                       max_depth=None, max_features='auto', max_leaf_nodes=None,\n",
       "                       min_impurity_decrease=0.0, min_impurity_split=None,\n",
       "                       min_samples_leaf=1, min_samples_split=2,\n",
       "                       min_weight_fraction_leaf=0.0, n_estimators=1000,\n",
       "                       n_jobs=None, oob_score=False, random_state=None,\n",
       "                       verbose=0, warm_start=False)"
      ]
     },
     "execution_count": 275,
     "metadata": {},
     "output_type": "execute_result"
    }
   ],
   "source": [
    "rf = RandomForestClassifier(1000)\n",
    "rf.fit(X_train,y_train)"
   ]
  },
  {
   "cell_type": "code",
   "execution_count": 276,
   "metadata": {},
   "outputs": [
    {
     "name": "stdout",
     "output_type": "stream",
     "text": [
      "              precision    recall  f1-score   support\n",
      "\n",
      "         0.0       0.98      0.99      0.99      2316\n",
      "         1.0       0.80      0.59      0.68        90\n",
      "\n",
      "    accuracy                           0.98      2406\n",
      "   macro avg       0.89      0.79      0.83      2406\n",
      "weighted avg       0.98      0.98      0.98      2406\n",
      "\n"
     ]
    }
   ],
   "source": [
    "print(classification_report(y_test,rf.predict(X_test)))"
   ]
  },
  {
   "cell_type": "code",
   "execution_count": 279,
   "metadata": {},
   "outputs": [
    {
     "data": {
      "text/plain": [
       "GradientBoostingClassifier(criterion='friedman_mse', init=None,\n",
       "                           learning_rate=0.01, loss='deviance', max_depth=3,\n",
       "                           max_features=None, max_leaf_nodes=None,\n",
       "                           min_impurity_decrease=0.0, min_impurity_split=None,\n",
       "                           min_samples_leaf=1, min_samples_split=2,\n",
       "                           min_weight_fraction_leaf=0.0, n_estimators=1000,\n",
       "                           n_iter_no_change=None, presort='auto',\n",
       "                           random_state=None, subsample=1.0, tol=0.0001,\n",
       "                           validation_fraction=0.1, verbose=0,\n",
       "                           warm_start=False)"
      ]
     },
     "execution_count": 279,
     "metadata": {},
     "output_type": "execute_result"
    }
   ],
   "source": [
    "gb = GradientBoostingClassifier(learning_rate=0.01,n_estimators=1000)\n",
    "gb.fit(X_train,y_train)\n"
   ]
  },
  {
   "cell_type": "code",
   "execution_count": 280,
   "metadata": {},
   "outputs": [
    {
     "name": "stdout",
     "output_type": "stream",
     "text": [
      "              precision    recall  f1-score   support\n",
      "\n",
      "         0.0       0.99      0.99      0.99      2316\n",
      "         1.0       0.81      0.63      0.71        90\n",
      "\n",
      "    accuracy                           0.98      2406\n",
      "   macro avg       0.90      0.81      0.85      2406\n",
      "weighted avg       0.98      0.98      0.98      2406\n",
      "\n"
     ]
    }
   ],
   "source": [
    "print(classification_report(y_test,gb.predict(X_test)))"
   ]
  },
  {
   "cell_type": "markdown",
   "metadata": {},
   "source": [
    "really huge improvement from the previous models. Gradient Boost Seem to be the Best as well\n",
    "<BR>\n",
    "Recall is at 52%\n",
    "<BR>\n",
    "Precision is at 79%"
   ]
  },
  {
   "cell_type": "code",
   "execution_count": 281,
   "metadata": {},
   "outputs": [
    {
     "data": {
      "text/plain": [
       "<BarContainer object of 10 artists>"
      ]
     },
     "execution_count": 281,
     "metadata": {},
     "output_type": "execute_result"
    },
    {
     "data": {
      "image/png": "[encoded data removed]",
      "text/plain": [
       "<Figure size 432x288 with 1 Axes>"
      ]
     },
     "metadata": {
      "needs_background": "light"
     },
     "output_type": "display_data"
    }
   ],
   "source": [
    "plt.barh(X.columns,gb.feature_importances_)"
   ]
  },
  {
   "cell_type": "markdown",
   "metadata": {},
   "source": [
    "from the feature importance graph, seems like some of the features is not that helpful"
   ]
  },
  {
   "cell_type": "code",
   "execution_count": 319,
   "metadata": {},
   "outputs": [],
   "source": [
    "reduce_feature = final_data.drop([\"USER_ID\",\"is_4\",\"is_kyc_none\",\"is_USA\"],axis =1)"
   ]
  },
  {
   "cell_type": "code",
   "execution_count": 320,
   "metadata": {},
   "outputs": [],
   "source": [
    "X = reduce_feature.drop([\"Fraud\"],axis =1)\n",
    "y = reduce_feature[\"Fraud\"]"
   ]
  },
  {
   "cell_type": "code",
   "execution_count": 321,
   "metadata": {},
   "outputs": [],
   "source": [
    "X_train, X_test, y_train, y_test = train_test_split(X, y, test_size=0.3, random_state=20,stratify = y)"
   ]
  },
  {
   "cell_type": "code",
   "execution_count": 322,
   "metadata": {},
   "outputs": [
    {
     "name": "stdout",
     "output_type": "stream",
     "text": [
      "              precision    recall  f1-score   support\n",
      "\n",
      "         0.0       0.99      0.99      0.99      2316\n",
      "         1.0       0.83      0.63      0.72        90\n",
      "\n",
      "    accuracy                           0.98      2406\n",
      "   macro avg       0.91      0.81      0.85      2406\n",
      "weighted avg       0.98      0.98      0.98      2406\n",
      "\n"
     ]
    }
   ],
   "source": [
    "gb = GradientBoostingClassifier(learning_rate=0.01,n_estimators=700)\n",
    "gb.fit(X_train,y_train)\n",
    "print(classification_report(y_test,gb.predict(X_test)))"
   ]
  },
  {
   "cell_type": "markdown",
   "metadata": {},
   "source": [
    "reducing features incease the precisoin but lower the recall"
   ]
  },
  {
   "cell_type": "markdown",
   "metadata": {},
   "source": [
    "## Try using mean after groupby"
   ]
  },
  {
   "cell_type": "code",
   "execution_count": 310,
   "metadata": {},
   "outputs": [],
   "source": [
    "final_data = pd.merge(need1,need2,how = \"left\",left_on=\"USER_ID\",right_on =\"ID\")\n",
    "final_data = final_data.groupby(\"USER_ID\").mean().reset_index()"
   ]
  },
  {
   "cell_type": "code",
   "execution_count": 313,
   "metadata": {},
   "outputs": [],
   "source": [
    "X = final_data.drop([\"USER_ID\",\"Fraud\"],axis =1)\n",
    "y = final_data[\"Fraud\"]\n",
    "X_train, X_test, y_train, y_test = train_test_split(X, y, test_size=0.5, random_state=20,stratify = y)"
   ]
  },
  {
   "cell_type": "code",
   "execution_count": 314,
   "metadata": {},
   "outputs": [
    {
     "name": "stdout",
     "output_type": "stream",
     "text": [
      "              precision    recall  f1-score   support\n",
      "\n",
      "         0.0       0.99      0.99      0.99      3859\n",
      "         1.0       0.79      0.69      0.74       150\n",
      "\n",
      "    accuracy                           0.98      4009\n",
      "   macro avg       0.89      0.84      0.86      4009\n",
      "weighted avg       0.98      0.98      0.98      4009\n",
      "\n"
     ]
    }
   ],
   "source": [
    "gb = GradientBoostingClassifier(learning_rate=0.01,n_estimators=1000)\n",
    "gb.fit(X_train,y_train)\n",
    "print(classification_report(y_test,gb.predict(X_test)))"
   ]
  },
  {
   "cell_type": "markdown",
   "metadata": {},
   "source": [
    "## Try smote and undersampling"
   ]
  },
  {
   "cell_type": "code",
   "execution_count": 323,
   "metadata": {},
   "outputs": [],
   "source": [
    "sm = SMOTE(ratio = 1.0)\n",
    "X_train_res, y_train_res = sm.fit_sample(X_train, y_train)"
   ]
  },
  {
   "cell_type": "code",
   "execution_count": 332,
   "metadata": {},
   "outputs": [
    {
     "name": "stdout",
     "output_type": "stream",
     "text": [
      "              precision    recall  f1-score   support\n",
      "\n",
      "         0.0       1.00      0.90      0.95      2316\n",
      "         1.0       0.27      0.91      0.41        90\n",
      "\n",
      "    accuracy                           0.90      2406\n",
      "   macro avg       0.63      0.91      0.68      2406\n",
      "weighted avg       0.97      0.90      0.93      2406\n",
      "\n"
     ]
    }
   ],
   "source": [
    "gb = GradientBoostingClassifier(learning_rate=0.1,n_estimators=700)\n",
    "gb.fit(X_train_res,y_train_res)\n",
    "print(classification_report(y_test,gb.predict(X_test)))"
   ]
  },
  {
   "cell_type": "code",
   "execution_count": 325,
   "metadata": {},
   "outputs": [
    {
     "name": "stdout",
     "output_type": "stream",
     "text": [
      "              precision    recall  f1-score   support\n",
      "\n",
      "         0.0       1.00      1.00      1.00      5402\n",
      "         1.0       1.00      1.00      1.00      5402\n",
      "\n",
      "    accuracy                           1.00     10804\n",
      "   macro avg       1.00      1.00      1.00     10804\n",
      "weighted avg       1.00      1.00      1.00     10804\n",
      "\n"
     ]
    }
   ],
   "source": [
    "print(classification_report(y_train_res,gb.predict(X_train_res)))"
   ]
  },
  {
   "cell_type": "markdown",
   "metadata": {},
   "source": [
    "Down sampling"
   ]
  },
  {
   "cell_type": "code",
   "execution_count": 327,
   "metadata": {},
   "outputs": [],
   "source": [
    "ds = RandomUnderSampler(random_state=12, ratio = 1.0)\n",
    "X_train_res, y_train_res = ds.fit_sample(X_train, y_train)"
   ]
  },
  {
   "cell_type": "code",
   "execution_count": 330,
   "metadata": {
    "scrolled": true
   },
   "outputs": [
    {
     "name": "stdout",
     "output_type": "stream",
     "text": [
      "              precision    recall  f1-score   support\n",
      "\n",
      "         0.0       1.00      0.90      0.95      2316\n",
      "         1.0       0.27      0.91      0.41        90\n",
      "\n",
      "    accuracy                           0.90      2406\n",
      "   macro avg       0.63      0.91      0.68      2406\n",
      "weighted avg       0.97      0.90      0.93      2406\n",
      "\n"
     ]
    }
   ],
   "source": [
    "gb = GradientBoostingClassifier(learning_rate=0.1,n_estimators=700)\n",
    "gb.fit(X_train_res,y_train_res)\n",
    "print(classification_report(y_test,gb.predict(X_test)))"
   ]
  },
  {
   "cell_type": "code",
   "execution_count": 331,
   "metadata": {},
   "outputs": [
    {
     "name": "stdout",
     "output_type": "stream",
     "text": [
      "              precision    recall  f1-score   support\n",
      "\n",
      "         0.0       0.99      1.00      1.00       209\n",
      "         1.0       1.00      0.99      1.00       209\n",
      "\n",
      "    accuracy                           1.00       418\n",
      "   macro avg       1.00      1.00      1.00       418\n",
      "weighted avg       1.00      1.00      1.00       418\n",
      "\n"
     ]
    }
   ],
   "source": [
    "print(classification_report(y_train_res,gb.predict(X_train_res)))"
   ]
  },
  {
   "cell_type": "markdown",
   "metadata": {},
   "source": [
    "looks like it's overfitting when using both over sampling and down sampling, but the difference is way too much"
   ]
  },
  {
   "cell_type": "markdown",
   "metadata": {},
   "source": [
    "XGBOOST"
   ]
  },
  {
   "cell_type": "code",
   "execution_count": 333,
   "metadata": {},
   "outputs": [],
   "source": [
    "import xgboost as xgb"
   ]
  },
  {
   "cell_type": "code",
   "execution_count": 334,
   "metadata": {},
   "outputs": [],
   "source": [
    "dtrain = xgb.DMatrix(X_train.values,y_train.values)\n",
    "dtest = xgb.DMatrix(X_test.values,y_test.values)"
   ]
  },
  {
   "cell_type": "code",
   "execution_count": 335,
   "metadata": {},
   "outputs": [],
   "source": [
    "param = {'max_depth': 6, 'eta': 1, 'objective': 'binary:logistic'}\n",
    "param['nthread'] = 4\n",
    "param['eval_metric'] = 'rmse'"
   ]
  },
  {
   "cell_type": "code",
   "execution_count": 336,
   "metadata": {},
   "outputs": [],
   "source": [
    "param['eval_metric'] = ['rmse', 'ams@0']"
   ]
  },
  {
   "cell_type": "code",
   "execution_count": 337,
   "metadata": {},
   "outputs": [],
   "source": [
    "evallist = [(dtest, 'eval'), (dtrain, 'train')]"
   ]
  },
  {
   "cell_type": "code",
   "execution_count": 338,
   "metadata": {},
   "outputs": [
    {
     "name": "stdout",
     "output_type": "stream",
     "text": [
      "[0]\teval-rmse:0.176718\teval-ams@0:8.38399\ttrain-rmse:0.162292\ttrain-ams@0:17.7234\n",
      "[1]\teval-rmse:0.141213\teval-ams@0:8.51862\ttrain-rmse:0.111838\ttrain-ams@0:20.6388\n",
      "[2]\teval-rmse:0.136097\teval-ams@0:8.64731\ttrain-rmse:0.096374\ttrain-ams@0:22.789\n",
      "[3]\teval-rmse:0.135661\teval-ams@0:8.91555\ttrain-rmse:0.088294\ttrain-ams@0:23.883\n",
      "[4]\teval-rmse:0.136409\teval-ams@0:8.8646\ttrain-rmse:0.082742\ttrain-ams@0:24.3841\n",
      "[5]\teval-rmse:0.13872\teval-ams@0:8.49779\ttrain-rmse:0.078551\ttrain-ams@0:25.2686\n",
      "[6]\teval-rmse:0.139624\teval-ams@0:8.38399\ttrain-rmse:0.071946\ttrain-ams@0:26.3085\n",
      "[7]\teval-rmse:0.14025\teval-ams@0:8.56149\ttrain-rmse:0.067274\ttrain-ams@0:26.7186\n",
      "[8]\teval-rmse:0.142527\teval-ams@0:8.22142\ttrain-rmse:0.063588\ttrain-ams@0:27.6296\n",
      "[9]\teval-rmse:0.142595\teval-ams@0:8.18549\ttrain-rmse:0.060074\ttrain-ams@0:28.3805\n"
     ]
    }
   ],
   "source": [
    "num_round = 10\n",
    "bst = xgb.train(param, dtrain, num_round, evallist)"
   ]
  },
  {
   "cell_type": "code",
   "execution_count": 340,
   "metadata": {},
   "outputs": [],
   "source": [
    "df_bst = pd.DataFrame()\n",
    "df_bst[\"bst\"] = bst.predict(dtest)\n",
    "df_bst[\"predict\"] =df_bst[\"bst\"].apply(lambda x : 1 if x>0.5 else 0)"
   ]
  },
  {
   "cell_type": "code",
   "execution_count": 341,
   "metadata": {},
   "outputs": [
    {
     "name": "stdout",
     "output_type": "stream",
     "text": [
      "              precision    recall  f1-score   support\n",
      "\n",
      "         0.0       0.98      0.99      0.99      2316\n",
      "         1.0       0.67      0.61      0.64        90\n",
      "\n",
      "    accuracy                           0.97      2406\n",
      "   macro avg       0.83      0.80      0.81      2406\n",
      "weighted avg       0.97      0.97      0.97      2406\n",
      "\n"
     ]
    }
   ],
   "source": [
    "print(classification_report(y_test,df_bst[\"predict\"] ))"
   ]
  },
  {
   "cell_type": "code",
   "execution_count": 360,
   "metadata": {},
   "outputs": [],
   "source": [
    "xgb_model = xgb.XGBClassifier(\n",
    " learning_rate =0.1,reg_alpha=0.2,n_estimators=700)"
   ]
  },
  {
   "cell_type": "code",
   "execution_count": 361,
   "metadata": {},
   "outputs": [
    {
     "data": {
      "text/plain": [
       "XGBClassifier(base_score=0.5, booster='gbtree', colsample_bylevel=1,\n",
       "              colsample_bynode=1, colsample_bytree=1, gamma=0,\n",
       "              learning_rate=0.1, max_delta_step=0, max_depth=3,\n",
       "              min_child_weight=1, missing=None, n_estimators=700, n_jobs=1,\n",
       "              nthread=None, objective='binary:logistic', random_state=0,\n",
       "              reg_alpha=0.2, reg_lambda=1, scale_pos_weight=1, seed=None,\n",
       "              silent=None, subsample=1, verbosity=1)"
      ]
     },
     "execution_count": 361,
     "metadata": {},
     "output_type": "execute_result"
    }
   ],
   "source": [
    "xgb_model.fit(X_train,y_train)"
   ]
  },
  {
   "cell_type": "code",
   "execution_count": 362,
   "metadata": {},
   "outputs": [
    {
     "name": "stdout",
     "output_type": "stream",
     "text": [
      "              precision    recall  f1-score   support\n",
      "\n",
      "         0.0       0.99      0.99      0.99      2316\n",
      "         1.0       0.78      0.64      0.71        90\n",
      "\n",
      "    accuracy                           0.98      2406\n",
      "   macro avg       0.89      0.82      0.85      2406\n",
      "weighted avg       0.98      0.98      0.98      2406\n",
      "\n"
     ]
    }
   ],
   "source": [
    "print(classification_report(y_test,xgb_model.predict(X_test)))"
   ]
  },
  {
   "cell_type": "markdown",
   "metadata": {},
   "source": [
    "It seems groupby mean is the best, perform a grid search on the hyper parameter"
   ]
  },
  {
   "cell_type": "code",
   "execution_count": null,
   "metadata": {},
   "outputs": [],
   "source": []
  }
 ],
 "metadata": {
  "kernelspec": {
   "display_name": "Python 3",
   "language": "python",
   "name": "python3"
  },
  "language_info": {
   "codemirror_mode": {
    "name": "ipython",
    "version": 3
   },
   "file_extension": ".py",
   "mimetype": "text/x-python",
   "name": "python",
   "nbconvert_exporter": "python",
   "pygments_lexer": "ipython3",
   "version": "3.7.2"
  }
 },
 "nbformat": 4,
 "nbformat_minor": 2
}
