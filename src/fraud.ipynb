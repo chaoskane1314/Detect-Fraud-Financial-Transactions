{
 "cells": [
  {
   "cell_type": "code",
   "execution_count": 90,
   "metadata": {},
   "outputs": [],
   "source": [
    "import pandas as pd\n",
    "import matplotlib.pyplot as plt\n",
    "import numpy as np\n",
    "import seaborn as sns\n",
    "from sklearn.ensemble import RandomForestClassifier,GradientBoostingClassifier\n",
    "from sklearn.model_selection import train_test_split\n",
    "from sklearn.metrics import classification_report,confusion_matrix\n",
    "from sklearn.preprocessing import LabelEncoder\n",
    "from imblearn.over_sampling import SMOTE\n",
    "from sklearn.model_selection import GridSearchCV\n",
    "from imblearn.under_sampling import RandomUnderSampler\n",
    "from sklearn.linear_model import LogisticRegression\n",
    "%matplotlib inline"
   ]
  },
  {
   "cell_type": "markdown",
   "metadata": {},
   "source": [
    "read the data"
   ]
  },
  {
   "cell_type": "code",
   "execution_count": 444,
   "metadata": {},
   "outputs": [],
   "source": [
    "transaction = pd.read_csv(\"../data/train_transactions.csv\",index_col = 0)\n",
    "fraud = pd.read_csv(\"../data/train_fraudsters.csv\",index_col = 0)\n",
    "users = pd.read_csv(\"../data/train_users.csv\",index_col = 0)\n",
    "rate = pd.read_csv(\"../data/fx_rates.csv\")\n",
    "transaction.CREATED_DATE = pd.to_datetime(transaction.CREATED_DATE)\n",
    "transaction.Fraud = transaction.Fraud.apply(lambda x: 0 if x== \"0\" else 1)"
   ]
  },
  {
   "cell_type": "markdown",
   "metadata": {},
   "source": [
    "### Base Line Model\n",
    "\n",
    "Randomly Guess if it's Fraud or not\n",
    "<BR>\n",
    "Simple Logistic Model base on transaction Amount"
   ]
  },
  {
   "cell_type": "code",
   "execution_count": 92,
   "metadata": {},
   "outputs": [],
   "source": [
    "Guess_Fraud =  transaction.Fraud.apply(lambda x: 1 if np.random.uniform(0,1)>0.5 else 0)"
   ]
  },
  {
   "cell_type": "code",
   "execution_count": 93,
   "metadata": {},
   "outputs": [
    {
     "name": "stdout",
     "output_type": "stream",
     "text": [
      "              precision    recall  f1-score   support\n",
      "\n",
      "           0       0.98      0.50      0.66    674108\n",
      "           1       0.02      0.51      0.04     14543\n",
      "\n",
      "    accuracy                           0.50    688651\n",
      "   macro avg       0.50      0.51      0.35    688651\n",
      "weighted avg       0.96      0.50      0.65    688651\n",
      "\n"
     ]
    }
   ],
   "source": [
    "print(classification_report(transaction.Fraud,Guess_Fraud))"
   ]
  },
  {
   "cell_type": "markdown",
   "metadata": {},
   "source": [
    "With random guess, there is a 2% chance of being correct on predicting Fraud"
   ]
  },
  {
   "cell_type": "code",
   "execution_count": 195,
   "metadata": {},
   "outputs": [],
   "source": [
    "X = transaction.AMOUNT\n",
    "y = transaction.Fraud\n",
    "X_train, X_test, y_train, y_test = train_test_split(X, y, test_size=0.3, random_state=20,stratify = y)"
   ]
  },
  {
   "cell_type": "code",
   "execution_count": 198,
   "metadata": {},
   "outputs": [
    {
     "name": "stderr",
     "output_type": "stream",
     "text": [
      "/anaconda3/lib/python3.7/site-packages/sklearn/linear_model/logistic.py:432: FutureWarning: Default solver will be changed to 'lbfgs' in 0.22. Specify a solver to silence this warning.\n",
      "  FutureWarning)\n"
     ]
    },
    {
     "data": {
      "text/plain": [
       "LogisticRegression(C=1.0, class_weight=None, dual=False, fit_intercept=True,\n",
       "                   intercept_scaling=1, l1_ratio=None, max_iter=100,\n",
       "                   multi_class='warn', n_jobs=None, penalty='l2',\n",
       "                   random_state=None, solver='warn', tol=0.0001, verbose=0,\n",
       "                   warm_start=False)"
      ]
     },
     "execution_count": 198,
     "metadata": {},
     "output_type": "execute_result"
    }
   ],
   "source": [
    "log =  LogisticRegression()\n",
    "log.fit(np.array(X_train).reshape(-1,1),y_train)"
   ]
  },
  {
   "cell_type": "code",
   "execution_count": 199,
   "metadata": {},
   "outputs": [
    {
     "name": "stderr",
     "output_type": "stream",
     "text": [
      "/anaconda3/lib/python3.7/site-packages/sklearn/metrics/classification.py:1437: UndefinedMetricWarning: Precision and F-score are ill-defined and being set to 0.0 in labels with no predicted samples.\n",
      "  'precision', 'predicted', average, warn_for)\n"
     ]
    },
    {
     "name": "stdout",
     "output_type": "stream",
     "text": [
      "              precision    recall  f1-score   support\n",
      "\n",
      "           0       0.98      1.00      0.99    202233\n",
      "           1       0.00      0.00      0.00      4363\n",
      "\n",
      "    accuracy                           0.98    206596\n",
      "   macro avg       0.49      0.50      0.49    206596\n",
      "weighted avg       0.96      0.98      0.97    206596\n",
      "\n"
     ]
    }
   ],
   "source": [
    "print(classification_report(y_test,log.predict(np.array(X_test).reshape(-1,1))))"
   ]
  },
  {
   "cell_type": "markdown",
   "metadata": {},
   "source": [
    "With a Logistic model, it pretty much guess every as not fraud"
   ]
  },
  {
   "cell_type": "markdown",
   "metadata": {},
   "source": [
    "Build a Random Forest and Gradient Boosting Model base on some features"
   ]
  },
  {
   "cell_type": "code",
   "execution_count": 203,
   "metadata": {},
   "outputs": [],
   "source": [
    "X = transaction[[\"AMOUNT\",\"TYPE\",\"SOURCE\"]]\n",
    "X = pd.concat([X.AMOUNT,pd.get_dummies(X.drop(\"AMOUNT\",axis=1))],axis =1)\n",
    "y = transaction.Fraud"
   ]
  },
  {
   "cell_type": "markdown",
   "metadata": {},
   "source": [
    "using 3 features to build Random Forest and Gradient Boost"
   ]
  },
  {
   "cell_type": "code",
   "execution_count": 207,
   "metadata": {},
   "outputs": [],
   "source": [
    "X_train, X_test, y_train, y_test = train_test_split(X, y, test_size=0.3, random_state=20,stratify = y)"
   ]
  },
  {
   "cell_type": "code",
   "execution_count": 208,
   "metadata": {},
   "outputs": [
    {
     "name": "stderr",
     "output_type": "stream",
     "text": [
      "/anaconda3/lib/python3.7/site-packages/sklearn/ensemble/forest.py:245: FutureWarning: The default value of n_estimators will change from 10 in version 0.20 to 100 in 0.22.\n",
      "  \"10 in version 0.20 to 100 in 0.22.\", FutureWarning)\n"
     ]
    },
    {
     "name": "stdout",
     "output_type": "stream",
     "text": [
      "              precision    recall  f1-score   support\n",
      "\n",
      "           0       0.98      1.00      0.99    202233\n",
      "           1       0.49      0.13      0.21      4363\n",
      "\n",
      "    accuracy                           0.98    206596\n",
      "   macro avg       0.74      0.56      0.60    206596\n",
      "weighted avg       0.97      0.98      0.97    206596\n",
      "\n"
     ]
    }
   ],
   "source": [
    "rf = RandomForestClassifier()\n",
    "rf.fit(X_train,y_train)\n",
    "print(classification_report(y_test,rf.predict(X_test)))"
   ]
  },
  {
   "cell_type": "code",
   "execution_count": 209,
   "metadata": {},
   "outputs": [
    {
     "name": "stdout",
     "output_type": "stream",
     "text": [
      "              precision    recall  f1-score   support\n",
      "\n",
      "           0       0.98      1.00      0.99    202233\n",
      "           1       0.59      0.07      0.12      4363\n",
      "\n",
      "    accuracy                           0.98    206596\n",
      "   macro avg       0.79      0.53      0.56    206596\n",
      "weighted avg       0.97      0.98      0.97    206596\n",
      "\n"
     ]
    }
   ],
   "source": [
    "gb = GradientBoostingClassifier()\n",
    "gb.fit(X_train,y_train)\n",
    "print(classification_report(y_test,gb.predict(X_test)))"
   ]
  },
  {
   "cell_type": "markdown",
   "metadata": {},
   "source": [
    "Both the random forest model and gradient decent are not promising as well, with really low recall"
   ]
  },
  {
   "cell_type": "markdown",
   "metadata": {},
   "source": [
    "### Feature Engineering\n",
    "\n",
    "Base on the EDA, there is a lot of outliers\n",
    "\n",
    "And there is variable in the features can really distinguish between Fraud and not Fraud"
   ]
  },
  {
   "cell_type": "code",
   "execution_count": 445,
   "metadata": {},
   "outputs": [],
   "source": [
    "# transaction.Fraud = data.Fraud.apply(lambda x: 0 if x== \"0\" else 1)\n",
    "q = transaction.AMOUNT.quantile(0.99)\n",
    "transaction = transaction[transaction[\"AMOUNT\"] < q]\n",
    "transaction.AMOUNT = transaction.AMOUNT/100\n",
    "transaction.drop([\"STATE\"],axis =1,inplace= True)"
   ]
  },
  {
   "cell_type": "code",
   "execution_count": 446,
   "metadata": {},
   "outputs": [],
   "source": [
    "users.PHONE_COUNTRY = users.PHONE_COUNTRY.apply(lambda x: x.split(\"||\"))\n",
    "users[\"phone\"] = users.PHONE_COUNTRY.apply(lambda x: len(x))\n",
    "users = pd.merge(users,fraud,how=\"left\",left_on=\"ID\",right_on = \"user_id\")\n",
    "users[\"is_fraud\"] = users.user_id.apply(lambda x:0 if x is np.nan  else 1)"
   ]
  },
  {
   "cell_type": "code",
   "execution_count": 369,
   "metadata": {},
   "outputs": [],
   "source": [
    "# Try to conver all amount to GBP\n",
    "#transaction = pd.merge(transaction,rate,how =\"left\",left_on=\"CURRENCY\",right_on=\"Currency\")\n",
    "#transaction.AMOUNT = transaction.AMOUNT/ transaction.Rate"
   ]
  },
  {
   "cell_type": "code",
   "execution_count": 447,
   "metadata": {},
   "outputs": [],
   "source": [
    "transaction[\"is_atm\"] =transaction.MERCHANT_CATEGORY.apply(lambda x: 1 if x==\"atm\" else 0)\n",
    "transaction[\"is_GBR\"] = transaction.MERCHANT_COUNTRY.apply(lambda x: 1 if x==\"GBR\" else 0)\n",
    "transaction[\"is_USA\"] = transaction.MERCHANT_COUNTRY.apply(lambda x: 1 if x==\"USA\" else 0)\n",
    "transaction[\"is_manu\"] = transaction.ENTRY_METHOD.apply(lambda x: 1 if x==\"manu\" else 0)\n",
    "transaction[\"is_bank_transfer\"] = transaction.TYPE.apply(lambda x: 1 if x==\"BANK_TRANSFER\" else 0)\n",
    "transaction[\"is_minos\"] = transaction.SOURCE.apply(lambda x: 1 if x==\"MINOS\" else 0)\n",
    "users[\"is_kyc_none\"] = users.KYC.apply(lambda x: 1 if x==\"NONE\" else 0)\n",
    "users[\"is_4\"] =users.phone.apply(lambda x: 1 if x>=4 else 0)"
   ]
  },
  {
   "cell_type": "code",
   "execution_count": 448,
   "metadata": {},
   "outputs": [],
   "source": [
    "need1 = transaction[[\"AMOUNT\",\"USER_ID\",\"is_atm\",\"is_GBR\",\"is_manu\",\"is_bank_transfer\",\"is_minos\",\"Fraud\",\"is_USA\"]]\n",
    "need2 = users[[\"ID\",\"phone\",\"is_kyc_none\",\"is_4\"]]"
   ]
  },
  {
   "cell_type": "markdown",
   "metadata": {},
   "source": [
    "Create final data frame"
   ]
  },
  {
   "cell_type": "code",
   "execution_count": 392,
   "metadata": {},
   "outputs": [],
   "source": [
    "final_data = pd.merge(need1,need2,how = \"left\",left_on=\"USER_ID\",right_on =\"ID\")\n"
   ]
  },
  {
   "cell_type": "code",
   "execution_count": 377,
   "metadata": {},
   "outputs": [
    {
     "data": {
      "text/plain": [
       "Index(['AMOUNT', 'USER_ID', 'is_atm', 'is_GBR', 'is_manu', 'is_bank_transfer',\n",
       "       'is_minos', 'Fraud', 'is_USA', 'ID', 'phone', 'is_kyc_none', 'is_4'],\n",
       "      dtype='object')"
      ]
     },
     "execution_count": 377,
     "metadata": {},
     "output_type": "execute_result"
    }
   ],
   "source": [
    "final_data.columns"
   ]
  },
  {
   "cell_type": "markdown",
   "metadata": {},
   "source": [
    "Just want to keep unique user id and get the median value for each users"
   ]
  },
  {
   "cell_type": "code",
   "execution_count": 393,
   "metadata": {},
   "outputs": [],
   "source": [
    "final_data = final_data.groupby(\"USER_ID\").median().reset_index()"
   ]
  },
  {
   "cell_type": "code",
   "execution_count": 394,
   "metadata": {},
   "outputs": [],
   "source": [
    "X = final_data.drop([\"USER_ID\",\"Fraud\"],axis =1)\n",
    "y = final_data[\"Fraud\"]"
   ]
  },
  {
   "cell_type": "code",
   "execution_count": 395,
   "metadata": {},
   "outputs": [],
   "source": [
    "X_train, X_test, y_train, y_test = train_test_split(X, y, test_size=0.5, random_state=20,stratify = y)"
   ]
  },
  {
   "cell_type": "code",
   "execution_count": 396,
   "metadata": {},
   "outputs": [
    {
     "name": "stdout",
     "output_type": "stream",
     "text": [
      "              precision    recall  f1-score   support\n",
      "\n",
      "         0.0       0.98      0.99      0.98      3859\n",
      "         1.0       0.64      0.40      0.49       150\n",
      "\n",
      "    accuracy                           0.97      4009\n",
      "   macro avg       0.81      0.70      0.74      4009\n",
      "weighted avg       0.96      0.97      0.97      4009\n",
      "\n"
     ]
    }
   ],
   "source": [
    "rf = RandomForestClassifier(1000)\n",
    "rf.fit(X_train,y_train)\n",
    "print(classification_report(y_test,rf.predict(X_test)))"
   ]
  },
  {
   "cell_type": "code",
   "execution_count": 397,
   "metadata": {},
   "outputs": [
    {
     "name": "stdout",
     "output_type": "stream",
     "text": [
      "              precision    recall  f1-score   support\n",
      "\n",
      "         0.0       0.98      1.00      0.99      3859\n",
      "         1.0       0.86      0.42      0.57       150\n",
      "\n",
      "    accuracy                           0.98      4009\n",
      "   macro avg       0.92      0.71      0.78      4009\n",
      "weighted avg       0.97      0.98      0.97      4009\n",
      "\n"
     ]
    }
   ],
   "source": [
    "gb = GradientBoostingClassifier(learning_rate=0.01,n_estimators=1000)\n",
    "gb.fit(X_train,y_train)\n",
    "print(classification_report(y_test,gb.predict(X_test)))"
   ]
  },
  {
   "cell_type": "markdown",
   "metadata": {},
   "source": [
    "really huge improvement from the previous models. Gradient Boost Seem to be the Best as well\n",
    "<BR>\n",
    "Recall is at 52%\n",
    "<BR>\n",
    "Precision is at 79%"
   ]
  },
  {
   "cell_type": "code",
   "execution_count": 386,
   "metadata": {},
   "outputs": [
    {
     "data": {
      "text/plain": [
       "<BarContainer object of 10 artists>"
      ]
     },
     "execution_count": 386,
     "metadata": {},
     "output_type": "execute_result"
    },
    {
     "data": {
      "image/png": "[encoded data removed]",
      "text/plain": [
       "<Figure size 432x288 with 1 Axes>"
      ]
     },
     "metadata": {
      "needs_background": "light"
     },
     "output_type": "display_data"
    }
   ],
   "source": [
    "plt.barh(X.columns,gb.feature_importances_)\n"
   ]
  },
  {
   "cell_type": "markdown",
   "metadata": {},
   "source": [
    "from the feature importance graph, seems like some of the features is not that helpful"
   ]
  },
  {
   "cell_type": "code",
   "execution_count": 438,
   "metadata": {},
   "outputs": [],
   "source": [
    "reduce_feature = final_data.drop([\"USER_ID\",\"is_4\",\"is_kyc_none\",\"is_USA\"],axis =1)"
   ]
  },
  {
   "cell_type": "code",
   "execution_count": 114,
   "metadata": {},
   "outputs": [],
   "source": [
    "X = reduce_feature.drop([\"Fraud\"],axis =1)\n",
    "y = reduce_feature[\"Fraud\"]"
   ]
  },
  {
   "cell_type": "code",
   "execution_count": 115,
   "metadata": {},
   "outputs": [],
   "source": [
    "X_train, X_test, y_train, y_test = train_test_split(X, y, test_size=0.5, random_state=20,stratify = y)"
   ]
  },
  {
   "cell_type": "code",
   "execution_count": 116,
   "metadata": {},
   "outputs": [
    {
     "name": "stdout",
     "output_type": "stream",
     "text": [
      "              precision    recall  f1-score   support\n",
      "\n",
      "         0.0       0.98      1.00      0.99      3859\n",
      "         1.0       0.89      0.39      0.54       150\n",
      "\n",
      "    accuracy                           0.98      4009\n",
      "   macro avg       0.93      0.69      0.76      4009\n",
      "weighted avg       0.97      0.98      0.97      4009\n",
      "\n"
     ]
    }
   ],
   "source": [
    "gb = GradientBoostingClassifier(learning_rate=0.01,n_estimators=1000)\n",
    "gb.fit(X_train,y_train)\n",
    "print(classification_report(y_test,gb.predict(X_test)))"
   ]
  },
  {
   "cell_type": "markdown",
   "metadata": {},
   "source": [
    "reducing features incease the precisoin but lower the recall"
   ]
  },
  {
   "cell_type": "markdown",
   "metadata": {},
   "source": [
    "## Try using mean after groupby"
   ]
  },
  {
   "cell_type": "code",
   "execution_count": 449,
   "metadata": {},
   "outputs": [],
   "source": [
    "final_data = pd.merge(need1,need2,how = \"left\",left_on=\"USER_ID\",right_on =\"ID\")\n",
    "final_data = final_data.groupby(\"USER_ID\").mean().reset_index()"
   ]
  },
  {
   "cell_type": "code",
   "execution_count": 450,
   "metadata": {},
   "outputs": [],
   "source": [
    "X = final_data.drop([\"USER_ID\",\"Fraud\"],axis =1)\n",
    "y = final_data[\"Fraud\"]\n",
    "X_train, X_test, y_train, y_test = train_test_split(X, y, test_size=0.5, random_state=20,stratify = y)"
   ]
  },
  {
   "cell_type": "code",
   "execution_count": 451,
   "metadata": {},
   "outputs": [
    {
     "name": "stdout",
     "output_type": "stream",
     "text": [
      "              precision    recall  f1-score   support\n",
      "\n",
      "         0.0       0.99      0.99      0.99      3859\n",
      "         1.0       0.79      0.69      0.74       150\n",
      "\n",
      "    accuracy                           0.98      4009\n",
      "   macro avg       0.89      0.84      0.86      4009\n",
      "weighted avg       0.98      0.98      0.98      4009\n",
      "\n"
     ]
    }
   ],
   "source": [
    "gb = GradientBoostingClassifier(learning_rate=0.01,n_estimators=1000)\n",
    "gb.fit(X_train,y_train)\n",
    "print(classification_report(y_test,gb.predict(X_test)))"
   ]
  },
  {
   "cell_type": "markdown",
   "metadata": {},
   "source": [
    "On Reduce Features"
   ]
  },
  {
   "cell_type": "code",
   "execution_count": 454,
   "metadata": {},
   "outputs": [],
   "source": [
    "reduce_feature = final_data.drop([\"is_4\",\"is_kyc_none\",\"is_USA\",\"USER_ID\"],axis =1)\n",
    "X = reduce_feature.drop([\"Fraud\"],axis =1)\n",
    "y = reduce_feature[\"Fraud\"]\n",
    "X_train, X_test, y_train, y_test = train_test_split(X, y, test_size=0.5, random_state=20,stratify = y)"
   ]
  },
  {
   "cell_type": "code",
   "execution_count": 455,
   "metadata": {},
   "outputs": [
    {
     "name": "stdout",
     "output_type": "stream",
     "text": [
      "              precision    recall  f1-score   support\n",
      "\n",
      "         0.0       0.99      0.99      0.99      3859\n",
      "         1.0       0.80      0.69      0.74       150\n",
      "\n",
      "    accuracy                           0.98      4009\n",
      "   macro avg       0.89      0.84      0.87      4009\n",
      "weighted avg       0.98      0.98      0.98      4009\n",
      "\n"
     ]
    }
   ],
   "source": [
    "gb = GradientBoostingClassifier(learning_rate=0.01,n_estimators=1000)\n",
    "gb.fit(X_train,y_train)\n",
    "print(classification_report(y_test,gb.predict(X_test)))"
   ]
  },
  {
   "cell_type": "markdown",
   "metadata": {},
   "source": [
    "## Try smote and undersampling"
   ]
  },
  {
   "cell_type": "code",
   "execution_count": 768,
   "metadata": {},
   "outputs": [],
   "source": [
    "sm = SMOTE(ratio = 1.0)\n",
    "X_train_res, y_train_res = sm.fit_sample(X_train, y_train)"
   ]
  },
  {
   "cell_type": "code",
   "execution_count": 769,
   "metadata": {},
   "outputs": [
    {
     "name": "stdout",
     "output_type": "stream",
     "text": [
      "              precision    recall  f1-score   support\n",
      "\n",
      "         0.0       0.99      0.97      0.98      3859\n",
      "         1.0       0.50      0.78      0.61       150\n",
      "\n",
      "    accuracy                           0.96      4009\n",
      "   macro avg       0.75      0.87      0.79      4009\n",
      "weighted avg       0.97      0.96      0.97      4009\n",
      "\n"
     ]
    }
   ],
   "source": [
    "gb = GradientBoostingClassifier(learning_rate=0.1,n_estimators=700)\n",
    "gb.fit(X_train_res,y_train_res)\n",
    "print(classification_report(y_test,gb.predict(X_test)))"
   ]
  },
  {
   "cell_type": "code",
   "execution_count": 325,
   "metadata": {},
   "outputs": [
    {
     "name": "stdout",
     "output_type": "stream",
     "text": [
      "              precision    recall  f1-score   support\n",
      "\n",
      "         0.0       1.00      1.00      1.00      5402\n",
      "         1.0       1.00      1.00      1.00      5402\n",
      "\n",
      "    accuracy                           1.00     10804\n",
      "   macro avg       1.00      1.00      1.00     10804\n",
      "weighted avg       1.00      1.00      1.00     10804\n",
      "\n"
     ]
    }
   ],
   "source": [
    "print(classification_report(y_train_res,gb.predict(X_train_res)))"
   ]
  },
  {
   "cell_type": "markdown",
   "metadata": {},
   "source": [
    "Down sampling"
   ]
  },
  {
   "cell_type": "code",
   "execution_count": 327,
   "metadata": {},
   "outputs": [],
   "source": [
    "ds = RandomUnderSampler(random_state=12, ratio = 1.0)\n",
    "X_train_res, y_train_res = ds.fit_sample(X_train, y_train)"
   ]
  },
  {
   "cell_type": "code",
   "execution_count": 330,
   "metadata": {
    "scrolled": true
   },
   "outputs": [
    {
     "name": "stdout",
     "output_type": "stream",
     "text": [
      "              precision    recall  f1-score   support\n",
      "\n",
      "         0.0       1.00      0.90      0.95      2316\n",
      "         1.0       0.27      0.91      0.41        90\n",
      "\n",
      "    accuracy                           0.90      2406\n",
      "   macro avg       0.63      0.91      0.68      2406\n",
      "weighted avg       0.97      0.90      0.93      2406\n",
      "\n"
     ]
    }
   ],
   "source": [
    "gb = GradientBoostingClassifier(learning_rate=0.1,n_estimators=700)\n",
    "gb.fit(X_train_res,y_train_res)\n",
    "print(classification_report(y_test,gb.predict(X_test)))"
   ]
  },
  {
   "cell_type": "code",
   "execution_count": 331,
   "metadata": {},
   "outputs": [
    {
     "name": "stdout",
     "output_type": "stream",
     "text": [
      "              precision    recall  f1-score   support\n",
      "\n",
      "         0.0       0.99      1.00      1.00       209\n",
      "         1.0       1.00      0.99      1.00       209\n",
      "\n",
      "    accuracy                           1.00       418\n",
      "   macro avg       1.00      1.00      1.00       418\n",
      "weighted avg       1.00      1.00      1.00       418\n",
      "\n"
     ]
    }
   ],
   "source": [
    "print(classification_report(y_train_res,gb.predict(X_train_res)))"
   ]
  },
  {
   "cell_type": "markdown",
   "metadata": {},
   "source": [
    "looks like it's overfitting when using both over sampling and down sampling, but the difference is way too much"
   ]
  },
  {
   "cell_type": "markdown",
   "metadata": {},
   "source": [
    "XGBOOST"
   ]
  },
  {
   "cell_type": "code",
   "execution_count": 333,
   "metadata": {},
   "outputs": [],
   "source": [
    "import xgboost as xgb"
   ]
  },
  {
   "cell_type": "code",
   "execution_count": 334,
   "metadata": {},
   "outputs": [],
   "source": [
    "dtrain = xgb.DMatrix(X_train.values,y_train.values)\n",
    "dtest = xgb.DMatrix(X_test.values,y_test.values)"
   ]
  },
  {
   "cell_type": "code",
   "execution_count": 335,
   "metadata": {},
   "outputs": [],
   "source": [
    "param = {'max_depth': 6, 'eta': 1, 'objective': 'binary:logistic'}\n",
    "param['nthread'] = 4\n",
    "param['eval_metric'] = 'rmse'"
   ]
  },
  {
   "cell_type": "code",
   "execution_count": 336,
   "metadata": {},
   "outputs": [],
   "source": [
    "param['eval_metric'] = ['rmse', 'ams@0']"
   ]
  },
  {
   "cell_type": "code",
   "execution_count": 337,
   "metadata": {},
   "outputs": [],
   "source": [
    "evallist = [(dtest, 'eval'), (dtrain, 'train')]"
   ]
  },
  {
   "cell_type": "code",
   "execution_count": 338,
   "metadata": {},
   "outputs": [
    {
     "name": "stdout",
     "output_type": "stream",
     "text": [
      "[0]\teval-rmse:0.176718\teval-ams@0:8.38399\ttrain-rmse:0.162292\ttrain-ams@0:17.7234\n",
      "[1]\teval-rmse:0.141213\teval-ams@0:8.51862\ttrain-rmse:0.111838\ttrain-ams@0:20.6388\n",
      "[2]\teval-rmse:0.136097\teval-ams@0:8.64731\ttrain-rmse:0.096374\ttrain-ams@0:22.789\n",
      "[3]\teval-rmse:0.135661\teval-ams@0:8.91555\ttrain-rmse:0.088294\ttrain-ams@0:23.883\n",
      "[4]\teval-rmse:0.136409\teval-ams@0:8.8646\ttrain-rmse:0.082742\ttrain-ams@0:24.3841\n",
      "[5]\teval-rmse:0.13872\teval-ams@0:8.49779\ttrain-rmse:0.078551\ttrain-ams@0:25.2686\n",
      "[6]\teval-rmse:0.139624\teval-ams@0:8.38399\ttrain-rmse:0.071946\ttrain-ams@0:26.3085\n",
      "[7]\teval-rmse:0.14025\teval-ams@0:8.56149\ttrain-rmse:0.067274\ttrain-ams@0:26.7186\n",
      "[8]\teval-rmse:0.142527\teval-ams@0:8.22142\ttrain-rmse:0.063588\ttrain-ams@0:27.6296\n",
      "[9]\teval-rmse:0.142595\teval-ams@0:8.18549\ttrain-rmse:0.060074\ttrain-ams@0:28.3805\n"
     ]
    }
   ],
   "source": [
    "num_round = 10\n",
    "bst = xgb.train(param, dtrain, num_round, evallist)"
   ]
  },
  {
   "cell_type": "code",
   "execution_count": 340,
   "metadata": {},
   "outputs": [],
   "source": [
    "df_bst = pd.DataFrame()\n",
    "df_bst[\"bst\"] = bst.predict(dtest)\n",
    "df_bst[\"predict\"] =df_bst[\"bst\"].apply(lambda x : 1 if x>0.5 else 0)"
   ]
  },
  {
   "cell_type": "code",
   "execution_count": 341,
   "metadata": {},
   "outputs": [
    {
     "name": "stdout",
     "output_type": "stream",
     "text": [
      "              precision    recall  f1-score   support\n",
      "\n",
      "         0.0       0.98      0.99      0.99      2316\n",
      "         1.0       0.67      0.61      0.64        90\n",
      "\n",
      "    accuracy                           0.97      2406\n",
      "   macro avg       0.83      0.80      0.81      2406\n",
      "weighted avg       0.97      0.97      0.97      2406\n",
      "\n"
     ]
    }
   ],
   "source": [
    "print(classification_report(y_test,df_bst[\"predict\"] ))"
   ]
  },
  {
   "cell_type": "code",
   "execution_count": 360,
   "metadata": {},
   "outputs": [],
   "source": [
    "xgb_model = xgb.XGBClassifier(\n",
    " learning_rate =0.1,reg_alpha=0.2,n_estimators=700)"
   ]
  },
  {
   "cell_type": "code",
   "execution_count": 361,
   "metadata": {},
   "outputs": [
    {
     "data": {
      "text/plain": [
       "XGBClassifier(base_score=0.5, booster='gbtree', colsample_bylevel=1,\n",
       "              colsample_bynode=1, colsample_bytree=1, gamma=0,\n",
       "              learning_rate=0.1, max_delta_step=0, max_depth=3,\n",
       "              min_child_weight=1, missing=None, n_estimators=700, n_jobs=1,\n",
       "              nthread=None, objective='binary:logistic', random_state=0,\n",
       "              reg_alpha=0.2, reg_lambda=1, scale_pos_weight=1, seed=None,\n",
       "              silent=None, subsample=1, verbosity=1)"
      ]
     },
     "execution_count": 361,
     "metadata": {},
     "output_type": "execute_result"
    }
   ],
   "source": [
    "xgb_model.fit(X_train,y_train)"
   ]
  },
  {
   "cell_type": "code",
   "execution_count": 362,
   "metadata": {},
   "outputs": [
    {
     "name": "stdout",
     "output_type": "stream",
     "text": [
      "              precision    recall  f1-score   support\n",
      "\n",
      "         0.0       0.99      0.99      0.99      2316\n",
      "         1.0       0.78      0.64      0.71        90\n",
      "\n",
      "    accuracy                           0.98      2406\n",
      "   macro avg       0.89      0.82      0.85      2406\n",
      "weighted avg       0.98      0.98      0.98      2406\n",
      "\n"
     ]
    }
   ],
   "source": [
    "print(classification_report(y_test,xgb_model.predict(X_test)))"
   ]
  },
  {
   "cell_type": "markdown",
   "metadata": {},
   "source": [
    "It seems groupby mean is the best, perform a grid search on the hyper parameter"
   ]
  },
  {
   "cell_type": "code",
   "execution_count": 379,
   "metadata": {},
   "outputs": [],
   "source": [
    "parameters = {\n",
    "    \"loss\":[\"deviance\"],\n",
    "    \"learning_rate\": [0.01, 0.05, 0.1, 0.2],\n",
    "    \"max_depth\":[3,5,8],\n",
    "    \"max_features\":[\"log2\",\"sqrt\"],\n",
    "    \"criterion\": [\"friedman_mse\",  \"mae\"],\n",
    "    \"subsample\":[0.6,0.7,0.8],\n",
    "    \"n_estimators\":[100,500,700,1000]\n",
    "    }"
   ]
  },
  {
   "cell_type": "code",
   "execution_count": 380,
   "metadata": {},
   "outputs": [],
   "source": [
    "clf = GridSearchCV(GradientBoostingClassifier(), parameters, cv=2, n_jobs=-1,verbose=3)"
   ]
  },
  {
   "cell_type": "markdown",
   "metadata": {},
   "source": [
    "Create Data for dashboard"
   ]
  },
  {
   "cell_type": "code",
   "execution_count": 251,
   "metadata": {},
   "outputs": [],
   "source": [
    "dashboard = pd.merge(transaction,need2, how = \"left\",left_on=\"USER_ID\", right_on=\"ID\")"
   ]
  },
  {
   "cell_type": "code",
   "execution_count": 510,
   "metadata": {},
   "outputs": [],
   "source": [
    "mask = list(X.columns)"
   ]
  },
  {
   "cell_type": "code",
   "execution_count": 513,
   "metadata": {},
   "outputs": [],
   "source": [
    "dashboard[\"Fraud Probabiliy\"] = gb.predict_proba(dashboard[mask])[:,1]"
   ]
  },
  {
   "cell_type": "code",
   "execution_count": 396,
   "metadata": {},
   "outputs": [
    {
     "data": {
      "text/plain": [
       "array([0.00245309, 0.00120751, 0.00322216, ..., 0.00653926, 0.00118222,\n",
       "       0.00224197])"
      ]
     },
     "execution_count": 396,
     "metadata": {},
     "output_type": "execute_result"
    }
   ],
   "source": [
    "gb.predict_proba(X)[:,1]"
   ]
  },
  {
   "cell_type": "code",
   "execution_count": 253,
   "metadata": {},
   "outputs": [],
   "source": [
    "dashboard.to_csv(\"../dashboard/data.csv\")"
   ]
  },
  {
   "cell_type": "code",
   "execution_count": 340,
   "metadata": {},
   "outputs": [],
   "source": [
    "dashboard2 = pd.concat([X_test,y_test],axis=1)"
   ]
  },
  {
   "cell_type": "code",
   "execution_count": 341,
   "metadata": {},
   "outputs": [],
   "source": [
    "dashboard2[\"Fraud Probability\"] = gb.predict_proba(X_test.drop([\"USER_ID\"],axis =1))[:,1]"
   ]
  },
  {
   "cell_type": "markdown",
   "metadata": {},
   "source": [
    "In the Predict Probability of being Fraud\n",
    "At 95% Percentile\n",
    "The probability is 14% or higher.\n",
    "AT 96% Percentile\n",
    "The probability is 26% or higher.\n",
    "AT 97% Percentile\n",
    "The Probability is 50% or higher.\n",
    "\n",
    "Translate the percentile to action.\n",
    "Only 5% or less will receive alert\n",
    "4% or less will be Lock\n",
    "3% or less will be both."
   ]
  },
  {
   "cell_type": "code",
   "execution_count": 342,
   "metadata": {},
   "outputs": [],
   "source": [
    "def action(x):\n",
    "    if x>=0.15 and x<0.25:\n",
    "        return \"Alert\"\n",
    "    if x>=0.25 and x<0.5:\n",
    "        return \"Lock\"\n",
    "    if x>=0.5:\n",
    "        return \"Alert and Lock\"\n",
    "    else:\n",
    "        return \"No Action\""
   ]
  },
  {
   "cell_type": "code",
   "execution_count": 343,
   "metadata": {},
   "outputs": [],
   "source": [
    "dashboard2[\"Action\"]  = dashboard2[\"Fraud Probability\"].apply(lambda x: action(x))"
   ]
  },
  {
   "cell_type": "code",
   "execution_count": 347,
   "metadata": {},
   "outputs": [],
   "source": [
    "dashboard2.to_csv(\"../data/dashboard2.csv\",index= False)"
   ]
  },
  {
   "cell_type": "code",
   "execution_count": 345,
   "metadata": {},
   "outputs": [
    {
     "name": "stdout",
     "output_type": "stream",
     "text": [
      "              precision    recall  f1-score   support\n",
      "\n",
      "         0.0       0.99      0.99      0.99      3859\n",
      "         1.0       0.80      0.69      0.74       150\n",
      "\n",
      "    accuracy                           0.98      4009\n",
      "   macro avg       0.89      0.84      0.87      4009\n",
      "weighted avg       0.98      0.98      0.98      4009\n",
      "\n"
     ]
    }
   ],
   "source": [
    "print(classification_report(y_test,gb.predict(X_test.drop([\"USER_ID\"],axis =1))))"
   ]
  },
  {
   "cell_type": "markdown",
   "metadata": {},
   "source": [
    "Business Case"
   ]
  },
  {
   "cell_type": "code",
   "execution_count": 547,
   "metadata": {},
   "outputs": [
    {
     "data": {
      "text/html": [
       "<div>\n",
       "<style scoped>\n",
       "    .dataframe tbody tr th:only-of-type {\n",
       "        vertical-align: middle;\n",
       "    }\n",
       "\n",
       "    .dataframe tbody tr th {\n",
       "        vertical-align: top;\n",
       "    }\n",
       "\n",
       "    .dataframe thead th {\n",
       "        text-align: right;\n",
       "    }\n",
       "</style>\n",
       "<table border=\"1\" class=\"dataframe\">\n",
       "  <thead>\n",
       "    <tr style=\"text-align: right;\">\n",
       "      <th></th>\n",
       "      <th>AMOUNT</th>\n",
       "      <th>Fraud</th>\n",
       "    </tr>\n",
       "  </thead>\n",
       "  <tbody>\n",
       "    <tr>\n",
       "      <th>count</th>\n",
       "      <td>14052.00</td>\n",
       "      <td>14052.0</td>\n",
       "    </tr>\n",
       "    <tr>\n",
       "      <th>mean</th>\n",
       "      <td>131.98</td>\n",
       "      <td>1.0</td>\n",
       "    </tr>\n",
       "    <tr>\n",
       "      <th>std</th>\n",
       "      <td>243.52</td>\n",
       "      <td>0.0</td>\n",
       "    </tr>\n",
       "    <tr>\n",
       "      <th>min</th>\n",
       "      <td>0.00</td>\n",
       "      <td>1.0</td>\n",
       "    </tr>\n",
       "    <tr>\n",
       "      <th>25%</th>\n",
       "      <td>5.00</td>\n",
       "      <td>1.0</td>\n",
       "    </tr>\n",
       "    <tr>\n",
       "      <th>50%</th>\n",
       "      <td>18.78</td>\n",
       "      <td>1.0</td>\n",
       "    </tr>\n",
       "    <tr>\n",
       "      <th>75%</th>\n",
       "      <td>130.00</td>\n",
       "      <td>1.0</td>\n",
       "    </tr>\n",
       "    <tr>\n",
       "      <th>max</th>\n",
       "      <td>1697.00</td>\n",
       "      <td>1.0</td>\n",
       "    </tr>\n",
       "  </tbody>\n",
       "</table>\n",
       "</div>"
      ],
      "text/plain": [
       "         AMOUNT    Fraud\n",
       "count  14052.00  14052.0\n",
       "mean     131.98      1.0\n",
       "std      243.52      0.0\n",
       "min        0.00      1.0\n",
       "25%        5.00      1.0\n",
       "50%       18.78      1.0\n",
       "75%      130.00      1.0\n",
       "max     1697.00      1.0"
      ]
     },
     "execution_count": 547,
     "metadata": {},
     "output_type": "execute_result"
    }
   ],
   "source": [
    "transaction[transaction.Fraud == 1].describe().round(2)"
   ]
  },
  {
   "cell_type": "code",
   "execution_count": 548,
   "metadata": {},
   "outputs": [
    {
     "data": {
      "text/html": [
       "<div>\n",
       "<style scoped>\n",
       "    .dataframe tbody tr th:only-of-type {\n",
       "        vertical-align: middle;\n",
       "    }\n",
       "\n",
       "    .dataframe tbody tr th {\n",
       "        vertical-align: top;\n",
       "    }\n",
       "\n",
       "    .dataframe thead th {\n",
       "        text-align: right;\n",
       "    }\n",
       "</style>\n",
       "<table border=\"1\" class=\"dataframe\">\n",
       "  <thead>\n",
       "    <tr style=\"text-align: right;\">\n",
       "      <th></th>\n",
       "      <th>AMOUNT</th>\n",
       "      <th>Fraud</th>\n",
       "    </tr>\n",
       "  </thead>\n",
       "  <tbody>\n",
       "    <tr>\n",
       "      <th>count</th>\n",
       "      <td>667682.00</td>\n",
       "      <td>667682.0</td>\n",
       "    </tr>\n",
       "    <tr>\n",
       "      <th>mean</th>\n",
       "      <td>62.01</td>\n",
       "      <td>0.0</td>\n",
       "    </tr>\n",
       "    <tr>\n",
       "      <th>std</th>\n",
       "      <td>149.55</td>\n",
       "      <td>0.0</td>\n",
       "    </tr>\n",
       "    <tr>\n",
       "      <th>min</th>\n",
       "      <td>0.00</td>\n",
       "      <td>0.0</td>\n",
       "    </tr>\n",
       "    <tr>\n",
       "      <th>25%</th>\n",
       "      <td>4.72</td>\n",
       "      <td>0.0</td>\n",
       "    </tr>\n",
       "    <tr>\n",
       "      <th>50%</th>\n",
       "      <td>13.84</td>\n",
       "      <td>0.0</td>\n",
       "    </tr>\n",
       "    <tr>\n",
       "      <th>75%</th>\n",
       "      <td>50.00</td>\n",
       "      <td>0.0</td>\n",
       "    </tr>\n",
       "    <tr>\n",
       "      <th>max</th>\n",
       "      <td>1699.00</td>\n",
       "      <td>0.0</td>\n",
       "    </tr>\n",
       "  </tbody>\n",
       "</table>\n",
       "</div>"
      ],
      "text/plain": [
       "          AMOUNT     Fraud\n",
       "count  667682.00  667682.0\n",
       "mean       62.01       0.0\n",
       "std       149.55       0.0\n",
       "min         0.00       0.0\n",
       "25%         4.72       0.0\n",
       "50%        13.84       0.0\n",
       "75%        50.00       0.0\n",
       "max      1699.00       0.0"
      ]
     },
     "execution_count": 548,
     "metadata": {},
     "output_type": "execute_result"
    }
   ],
   "source": [
    "transaction[transaction.Fraud == 0].describe().round(2)"
   ]
  },
  {
   "cell_type": "markdown",
   "metadata": {},
   "source": [
    "On average, the mean Fraud Transaction Amount is 132, and 62 for not fraud.\n",
    "<BR>\n",
    "Assuming loss for Fraud is 132, and 20% of the loss is not recoverable, which is about 26.5\n",
    "<BR>\n",
    "Revenue from non fraud is 2% of 62, which is 1.24\n",
    "    \n",
    "Every False Positive(Predict Fraud but not Fraud) case, loss is # of FP * 1.24 <BR>\n",
    "Every False Negative(Predict not Fraud but Fraud), loss is # of FN * 26.5.<BR>\n",
    "Every True Negative(Predict not Fraud and not Fraud), gain is # of TN *1.24<BR>\n",
    "Every True Postive(Predict Fraud and Fraud), gain is 0\n",
    "\n"
   ]
  },
  {
   "cell_type": "code",
   "execution_count": 233,
   "metadata": {},
   "outputs": [
    {
     "name": "stdout",
     "output_type": "stream",
     "text": [
      "At 50% Threshhold, confusion matrix is going to be:\n",
      "[[3833   26]\n",
      " [  46  104]]\n"
     ]
    }
   ],
   "source": [
    "print(\"At 50% Threshhold, confusion matrix is going to be:\")\n",
    "print(confusion_matrix(y_test,gb.predict(X_test)))"
   ]
  },
  {
   "cell_type": "code",
   "execution_count": 242,
   "metadata": {},
   "outputs": [],
   "source": [
    "def overall_revenue(FN,FP,TN):\n",
    "    \"\"\"\n",
    "    Return revenue by giving number of False Negative and False Postive value\n",
    "    Input: int\n",
    "    \"\"\"\n",
    "    return -26.5*FN-1.24*FP+1.24*TN\n"
   ]
  },
  {
   "cell_type": "code",
   "execution_count": 243,
   "metadata": {},
   "outputs": [],
   "source": [
    "predict_df =pd.DataFrame()\n",
    "predict_df[\"Prediction\"] = gb.predict_proba(X_test)[:,1]"
   ]
  },
  {
   "cell_type": "code",
   "execution_count": 244,
   "metadata": {},
   "outputs": [],
   "source": [
    "threshold_lst = np.linspace(0,1,101)"
   ]
  },
  {
   "cell_type": "code",
   "execution_count": 245,
   "metadata": {},
   "outputs": [],
   "source": [
    "revenue_lst =[]\n",
    "for threshold in threshold_lst:\n",
    "    prediction = predict_df[\"Prediction\"] > threshold\n",
    "    tn, fp, fn, tp = confusion_matrix(y_test,prediction).ravel()\n",
    "    revenue_lst.append(overall_revenue(fn,fp,tn))"
   ]
  },
  {
   "cell_type": "code",
   "execution_count": 246,
   "metadata": {},
   "outputs": [
    {
     "data": {
      "text/plain": [
       "Text(0, 0.5, 'Revenue')"
      ]
     },
     "execution_count": 246,
     "metadata": {},
     "output_type": "execute_result"
    },
    {
     "data": {
      "image/png": "[encoded data removed]",
      "text/plain": [
       "<Figure size 864x432 with 1 Axes>"
      ]
     },
     "metadata": {
      "needs_background": "light"
     },
     "output_type": "display_data"
    }
   ],
   "source": [
    "plt.figure(figsize=(12,6))\n",
    "plt.plot(threshold_lst,revenue_lst)\n",
    "plt.title(\"Threshold vs Revenue\")\n",
    "plt.xlabel(\"Threshold\")\n",
    "plt.ylabel(\"Revenue\")"
   ]
  },
  {
   "cell_type": "code",
   "execution_count": 247,
   "metadata": {},
   "outputs": [
    {
     "data": {
      "text/plain": [
       "0.07"
      ]
     },
     "execution_count": 247,
     "metadata": {},
     "output_type": "execute_result"
    }
   ],
   "source": [
    "threshold_lst[np.argmax(revenue_lst)]"
   ]
  },
  {
   "cell_type": "code",
   "execution_count": 248,
   "metadata": {
    "scrolled": true
   },
   "outputs": [
    {
     "name": "stdout",
     "output_type": "stream",
     "text": [
      "              precision    recall  f1-score   support\n",
      "\n",
      "         0.0       0.99      0.96      0.98      3859\n",
      "         1.0       0.47      0.85      0.60       150\n",
      "\n",
      "    accuracy                           0.96      4009\n",
      "   macro avg       0.73      0.91      0.79      4009\n",
      "weighted avg       0.97      0.96      0.96      4009\n",
      "\n",
      "[[3713  146]\n",
      " [  22  128]]\n"
     ]
    }
   ],
   "source": [
    "print(classification_report(y_test,predict_df[\"Prediction\"] > 0.07))\n",
    "print(confusion_matrix(y_test,predict_df[\"Prediction\"] > 0.07))"
   ]
  },
  {
   "cell_type": "markdown",
   "metadata": {},
   "source": [
    "Revenue Max when threshold is at 7%, recall is 85% and precision 47%.<BR>\n",
    "Using 7% threshold on the test dataset, the model will miss 22 fraud, and classify 146 person that is not fraud to be fraud.<BR>\n",
    "True Positive Rate will be 128/(128+22) = 85.33% <BR>\n",
    "False Positive Rate will be 146/(146+3713) = 3.78%<BR>\n",
    "Revenue = -26.5 * 22 - 1.24 * 146+ 1.24 * 3713 = 3840.8"
   ]
  },
  {
   "cell_type": "markdown",
   "metadata": {},
   "source": [
    "Plot the ROC Curve"
   ]
  },
  {
   "cell_type": "code",
   "execution_count": 249,
   "metadata": {},
   "outputs": [
    {
     "data": {
      "image/png": "[encoded data removed]",
      "text/plain": [
       "<Figure size 720x432 with 1 Axes>"
      ]
     },
     "metadata": {
      "needs_background": "light"
     },
     "output_type": "display_data"
    }
   ],
   "source": [
    "import sklearn.metrics as metrics\n",
    "# calculate the fpr and tpr for all thresholds of the classification\n",
    "probs = gb.predict_proba(X_test)\n",
    "preds = probs[:,1]\n",
    "fpr, tpr, threshold = metrics.roc_curve(y_test, preds)\n",
    "roc_auc = metrics.auc(fpr, tpr)\n",
    "\n",
    "# method I: plt\n",
    "import matplotlib.pyplot as plt\n",
    "plt.figure(figsize=(10,6))\n",
    "plt.title('ROC Curve')\n",
    "plt.plot(fpr, tpr, 'b', label = 'Best Model')\n",
    "plt.legend(loc = 'lower right')\n",
    "plt.plot([0, 1], [0, 1],'r--')\n",
    "plt.xlim([0, 1])\n",
    "plt.ylim([0, 1])\n",
    "plt.ylabel('True Positive Rate')\n",
    "plt.xlabel('False Positive Rate')\n",
    "plt.show()"
   ]
  },
  {
   "cell_type": "code",
   "execution_count": 410,
   "metadata": {
    "scrolled": true
   },
   "outputs": [
    {
     "data": {
      "text/plain": [
       "AMOUNT    5364.32\n",
       "Fraud        0.00\n",
       "dtype: float64"
      ]
     },
     "execution_count": 410,
     "metadata": {},
     "output_type": "execute_result"
    }
   ],
   "source": [
    "transaction[transaction.Fraud ==0].groupby(\"USER_ID\").sum().mean().round(2)"
   ]
  },
  {
   "cell_type": "code",
   "execution_count": 411,
   "metadata": {},
   "outputs": [
    {
     "data": {
      "text/plain": [
       "AMOUNT    6202.62\n",
       "Fraud       47.00\n",
       "dtype: float64"
      ]
     },
     "execution_count": 411,
     "metadata": {},
     "output_type": "execute_result"
    }
   ],
   "source": [
    "transaction[transaction.Fraud ==1].groupby(\"USER_ID\").sum().mean().round(2)"
   ]
  },
  {
   "cell_type": "code",
   "execution_count": null,
   "metadata": {},
   "outputs": [],
   "source": []
  }
 ],
 "metadata": {
  "kernelspec": {
   "display_name": "Python 3",
   "language": "python",
   "name": "python3"
  },
  "language_info": {
   "codemirror_mode": {
    "name": "ipython",
    "version": 3
   },
   "file_extension": ".py",
   "mimetype": "text/x-python",
   "name": "python",
   "nbconvert_exporter": "python",
   "pygments_lexer": "ipython3",
   "version": "3.7.2"
  }
 },
 "nbformat": 4,
 "nbformat_minor": 2
}
